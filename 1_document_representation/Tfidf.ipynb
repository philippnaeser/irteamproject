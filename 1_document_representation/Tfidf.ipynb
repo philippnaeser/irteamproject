{
 "cells": [
  {
   "cell_type": "markdown",
   "metadata": {},
   "source": [
    "# TFIDF"
   ]
  },
  {
   "cell_type": "code",
   "execution_count": 1,
   "metadata": {},
   "outputs": [],
   "source": [
    "import pandas as pd\n",
    "import numpy as np\n",
    "import pickle\n",
    "#We need this line to find the collection_vocabulary.py here, else we cannot load the col.pkl object\n",
    "import sys\n",
    "sys.path.append('../0_Collection_and_Inverted_Index/')\n",
    "with open('../0_Collection_and_Inverted_Index/pickle/col.pkl', 'rb') as input:\n",
    "    col = pickle.load(input)\n",
    "inverted_index = pd.read_pickle('../0_Collection_and_Inverted_Index/pickle/inverted_index.pkl')"
   ]
  },
  {
   "cell_type": "markdown",
   "metadata": {},
   "source": [
    "### IDF"
   ]
  },
  {
   "cell_type": "code",
   "execution_count": 2,
   "metadata": {},
   "outputs": [
    {
     "data": {
      "text/plain": [
       "zucchini               3633.0\n",
       "zugesetztem            3633.0\n",
       "zusatzstoffe-online    3633.0\n",
       "zygote                 3633.0\n",
       "zymography             1816.5\n",
       "dtype: float64"
      ]
     },
     "execution_count": 2,
     "metadata": {},
     "output_type": "execute_result"
    }
   ],
   "source": [
    "df=(inverted_index>0).sum(axis=1)\n",
    "raw_idf=(col.collection_size/df)\n",
    "raw_idf.tail()"
   ]
  },
  {
   "cell_type": "code",
   "execution_count": 3,
   "metadata": {},
   "outputs": [
    {
     "data": {
      "text/plain": [
       "zucchini               3.560265\n",
       "zugesetztem            3.560265\n",
       "zusatzstoffe-online    3.560265\n",
       "zygote                 3.560265\n",
       "zymography             3.259235\n",
       "dtype: float64"
      ]
     },
     "execution_count": 3,
     "metadata": {},
     "output_type": "execute_result"
    }
   ],
   "source": [
    "idf= np.log10(raw_idf) #aka log of raw_idf\n",
    "idf.to_pickle('pickle/idf.pkl') #use the global idf scores for queries later\n",
    "idf.tail()"
   ]
  },
  {
   "cell_type": "code",
   "execution_count": 4,
   "metadata": {},
   "outputs": [
    {
     "data": {
      "text/plain": [
       "True"
      ]
     },
     "execution_count": 4,
     "metadata": {},
     "output_type": "execute_result"
    }
   ],
   "source": [
    "# Sanity check: max tf score should be equal to number of docs in collection...\n",
    "raw_idf.max().max()==3633"
   ]
  },
  {
   "cell_type": "code",
   "execution_count": 5,
   "metadata": {},
   "outputs": [
    {
     "data": {
      "text/plain": [
       "3.5602653978627146"
      ]
     },
     "execution_count": 5,
     "metadata": {},
     "output_type": "execute_result"
    }
   ],
   "source": [
    "# Sanity check: ... and max idf score should be substantially lower\n",
    "idf.max().max()"
   ]
  },
  {
   "cell_type": "markdown",
   "metadata": {},
   "source": [
    "### TF\n",
    "Raw term frequency is what we obtain when we look columnwise at the  *inverted_index* dataframe.\n",
    "As discussed in the lecture, we will normalize this frequency by dividing with the raw frequency of the most frequent term in each document. Next, we then take the logarithm (any logarithm will do the job) since we assume that relevance does not increase linearly with term frequency."
   ]
  },
  {
   "cell_type": "code",
   "execution_count": 6,
   "metadata": {},
   "outputs": [
    {
     "name": "stderr",
     "output_type": "stream",
     "text": [
      "/Users/d071503/miniconda2/envs/mycondaenv/lib/python3.6/site-packages/ipykernel_launcher.py:2: RuntimeWarning: divide by zero encountered in log10\n",
      "  \n"
     ]
    },
    {
     "data": {
      "text/plain": [
       "(29052, 3633)"
      ]
     },
     "execution_count": 6,
     "metadata": {},
     "output_type": "execute_result"
    }
   ],
   "source": [
    "# nominator part\n",
    "nominator=inverted_index.mask(inverted_index!=0,other=np.log10(inverted_index)+1)\n",
    "nominator.shape"
   ]
  },
  {
   "cell_type": "code",
   "execution_count": 11,
   "metadata": {},
   "outputs": [
    {
     "data": {
      "text/plain": [
       "(3633,)"
      ]
     },
     "execution_count": 11,
     "metadata": {},
     "output_type": "execute_result"
    }
   ],
   "source": [
    "# denominator part\n",
    "most_frequent_term=inverted_index.max(axis=0) # determine most frequent term in each doc\n",
    "denominator= np.log10(most_frequent_term)\n",
    "denominator+=1\n",
    "denominator.shape"
   ]
  },
  {
   "cell_type": "code",
   "execution_count": 12,
   "metadata": {},
   "outputs": [
    {
     "data": {
      "text/plain": [
       "1.0"
      ]
     },
     "execution_count": 12,
     "metadata": {},
     "output_type": "execute_result"
    }
   ],
   "source": [
    "#sanity check, there shouldn't be any zeros\n",
    "denominator.min()"
   ]
  },
  {
   "cell_type": "code",
   "execution_count": 13,
   "metadata": {},
   "outputs": [],
   "source": [
    "#tf\n",
    "tf=nominator.div(denominator, axis=1)"
   ]
  },
  {
   "cell_type": "markdown",
   "metadata": {},
   "source": [
    "### TFIDF\n",
    "Bringing the pieces together."
   ]
  },
  {
   "cell_type": "code",
   "execution_count": 14,
   "metadata": {},
   "outputs": [
    {
     "data": {
      "text/plain": [
       "(29052, 3633)"
      ]
     },
     "execution_count": 14,
     "metadata": {},
     "output_type": "execute_result"
    }
   ],
   "source": [
    "tfidf= tf.mul(idf, axis=0) # we multiply the tf scores in every doc with the corresponding idf scores\n",
    "tfidf.to_pickle('pickle/tfidf.pkl')\n",
    "tfidf.shape"
   ]
  },
  {
   "cell_type": "code",
   "execution_count": 16,
   "metadata": {},
   "outputs": [
    {
     "data": {
      "text/html": [
       "<div>\n",
       "<style scoped>\n",
       "    .dataframe tbody tr th:only-of-type {\n",
       "        vertical-align: middle;\n",
       "    }\n",
       "\n",
       "    .dataframe tbody tr th {\n",
       "        vertical-align: top;\n",
       "    }\n",
       "\n",
       "    .dataframe thead th {\n",
       "        text-align: right;\n",
       "    }\n",
       "</style>\n",
       "<table border=\"1\" class=\"dataframe\">\n",
       "  <thead>\n",
       "    <tr style=\"text-align: right;\">\n",
       "      <th></th>\n",
       "      <th>MED-10</th>\n",
       "      <th>MED-14</th>\n",
       "      <th>MED-118</th>\n",
       "      <th>MED-301</th>\n",
       "      <th>MED-306</th>\n",
       "      <th>MED-329</th>\n",
       "      <th>MED-330</th>\n",
       "      <th>MED-332</th>\n",
       "      <th>MED-334</th>\n",
       "      <th>MED-335</th>\n",
       "      <th>...</th>\n",
       "      <th>MED-938</th>\n",
       "      <th>MED-939</th>\n",
       "      <th>MED-940</th>\n",
       "      <th>MED-892</th>\n",
       "      <th>MED-906</th>\n",
       "      <th>MED-917</th>\n",
       "      <th>MED-941</th>\n",
       "      <th>MED-942</th>\n",
       "      <th>MED-952</th>\n",
       "      <th>MED-961</th>\n",
       "    </tr>\n",
       "  </thead>\n",
       "  <tbody>\n",
       "    <tr>\n",
       "      <th>count</th>\n",
       "      <td>29052.000000</td>\n",
       "      <td>29052.000000</td>\n",
       "      <td>29052.000000</td>\n",
       "      <td>29052.000000</td>\n",
       "      <td>29052.000000</td>\n",
       "      <td>29052.000000</td>\n",
       "      <td>29052.000000</td>\n",
       "      <td>29052.000000</td>\n",
       "      <td>29052.000000</td>\n",
       "      <td>29052.000000</td>\n",
       "      <td>...</td>\n",
       "      <td>29052.000000</td>\n",
       "      <td>29052.000000</td>\n",
       "      <td>29052.000000</td>\n",
       "      <td>29052.000000</td>\n",
       "      <td>29052.000000</td>\n",
       "      <td>29052.000000</td>\n",
       "      <td>29052.000000</td>\n",
       "      <td>29052.000000</td>\n",
       "      <td>29052.000000</td>\n",
       "      <td>29052.000000</td>\n",
       "    </tr>\n",
       "    <tr>\n",
       "      <th>mean</th>\n",
       "      <td>0.002354</td>\n",
       "      <td>0.002171</td>\n",
       "      <td>0.001638</td>\n",
       "      <td>0.003018</td>\n",
       "      <td>0.003187</td>\n",
       "      <td>0.003790</td>\n",
       "      <td>0.002481</td>\n",
       "      <td>0.003265</td>\n",
       "      <td>0.002747</td>\n",
       "      <td>0.003261</td>\n",
       "      <td>...</td>\n",
       "      <td>0.002941</td>\n",
       "      <td>0.003522</td>\n",
       "      <td>0.003612</td>\n",
       "      <td>0.002682</td>\n",
       "      <td>0.002665</td>\n",
       "      <td>0.002355</td>\n",
       "      <td>0.003051</td>\n",
       "      <td>0.002124</td>\n",
       "      <td>0.002002</td>\n",
       "      <td>0.002293</td>\n",
       "    </tr>\n",
       "    <tr>\n",
       "      <th>std</th>\n",
       "      <td>0.046716</td>\n",
       "      <td>0.044176</td>\n",
       "      <td>0.038856</td>\n",
       "      <td>0.064724</td>\n",
       "      <td>0.058811</td>\n",
       "      <td>0.072123</td>\n",
       "      <td>0.051291</td>\n",
       "      <td>0.057346</td>\n",
       "      <td>0.055517</td>\n",
       "      <td>0.064487</td>\n",
       "      <td>...</td>\n",
       "      <td>0.060830</td>\n",
       "      <td>0.062996</td>\n",
       "      <td>0.064073</td>\n",
       "      <td>0.052539</td>\n",
       "      <td>0.061833</td>\n",
       "      <td>0.056672</td>\n",
       "      <td>0.061891</td>\n",
       "      <td>0.054927</td>\n",
       "      <td>0.050109</td>\n",
       "      <td>0.045917</td>\n",
       "    </tr>\n",
       "    <tr>\n",
       "      <th>min</th>\n",
       "      <td>0.000000</td>\n",
       "      <td>0.000000</td>\n",
       "      <td>0.000000</td>\n",
       "      <td>0.000000</td>\n",
       "      <td>0.000000</td>\n",
       "      <td>0.000000</td>\n",
       "      <td>0.000000</td>\n",
       "      <td>0.000000</td>\n",
       "      <td>0.000000</td>\n",
       "      <td>0.000000</td>\n",
       "      <td>...</td>\n",
       "      <td>0.000000</td>\n",
       "      <td>0.000000</td>\n",
       "      <td>0.000000</td>\n",
       "      <td>0.000000</td>\n",
       "      <td>0.000000</td>\n",
       "      <td>0.000000</td>\n",
       "      <td>0.000000</td>\n",
       "      <td>0.000000</td>\n",
       "      <td>0.000000</td>\n",
       "      <td>0.000000</td>\n",
       "    </tr>\n",
       "    <tr>\n",
       "      <th>25%</th>\n",
       "      <td>0.000000</td>\n",
       "      <td>0.000000</td>\n",
       "      <td>0.000000</td>\n",
       "      <td>0.000000</td>\n",
       "      <td>0.000000</td>\n",
       "      <td>0.000000</td>\n",
       "      <td>0.000000</td>\n",
       "      <td>0.000000</td>\n",
       "      <td>0.000000</td>\n",
       "      <td>0.000000</td>\n",
       "      <td>...</td>\n",
       "      <td>0.000000</td>\n",
       "      <td>0.000000</td>\n",
       "      <td>0.000000</td>\n",
       "      <td>0.000000</td>\n",
       "      <td>0.000000</td>\n",
       "      <td>0.000000</td>\n",
       "      <td>0.000000</td>\n",
       "      <td>0.000000</td>\n",
       "      <td>0.000000</td>\n",
       "      <td>0.000000</td>\n",
       "    </tr>\n",
       "    <tr>\n",
       "      <th>50%</th>\n",
       "      <td>0.000000</td>\n",
       "      <td>0.000000</td>\n",
       "      <td>0.000000</td>\n",
       "      <td>0.000000</td>\n",
       "      <td>0.000000</td>\n",
       "      <td>0.000000</td>\n",
       "      <td>0.000000</td>\n",
       "      <td>0.000000</td>\n",
       "      <td>0.000000</td>\n",
       "      <td>0.000000</td>\n",
       "      <td>...</td>\n",
       "      <td>0.000000</td>\n",
       "      <td>0.000000</td>\n",
       "      <td>0.000000</td>\n",
       "      <td>0.000000</td>\n",
       "      <td>0.000000</td>\n",
       "      <td>0.000000</td>\n",
       "      <td>0.000000</td>\n",
       "      <td>0.000000</td>\n",
       "      <td>0.000000</td>\n",
       "      <td>0.000000</td>\n",
       "    </tr>\n",
       "    <tr>\n",
       "      <th>75%</th>\n",
       "      <td>0.000000</td>\n",
       "      <td>0.000000</td>\n",
       "      <td>0.000000</td>\n",
       "      <td>0.000000</td>\n",
       "      <td>0.000000</td>\n",
       "      <td>0.000000</td>\n",
       "      <td>0.000000</td>\n",
       "      <td>0.000000</td>\n",
       "      <td>0.000000</td>\n",
       "      <td>0.000000</td>\n",
       "      <td>...</td>\n",
       "      <td>0.000000</td>\n",
       "      <td>0.000000</td>\n",
       "      <td>0.000000</td>\n",
       "      <td>0.000000</td>\n",
       "      <td>0.000000</td>\n",
       "      <td>0.000000</td>\n",
       "      <td>0.000000</td>\n",
       "      <td>0.000000</td>\n",
       "      <td>0.000000</td>\n",
       "      <td>0.000000</td>\n",
       "    </tr>\n",
       "    <tr>\n",
       "      <th>max</th>\n",
       "      <td>2.041651</td>\n",
       "      <td>1.760288</td>\n",
       "      <td>1.830837</td>\n",
       "      <td>3.207690</td>\n",
       "      <td>2.150165</td>\n",
       "      <td>2.726365</td>\n",
       "      <td>2.329816</td>\n",
       "      <td>2.329816</td>\n",
       "      <td>2.892300</td>\n",
       "      <td>3.083144</td>\n",
       "      <td>...</td>\n",
       "      <td>2.424320</td>\n",
       "      <td>3.478811</td>\n",
       "      <td>2.285474</td>\n",
       "      <td>3.053258</td>\n",
       "      <td>3.560265</td>\n",
       "      <td>2.169824</td>\n",
       "      <td>3.083144</td>\n",
       "      <td>2.789468</td>\n",
       "      <td>3.259235</td>\n",
       "      <td>1.727563</td>\n",
       "    </tr>\n",
       "  </tbody>\n",
       "</table>\n",
       "<p>8 rows × 3633 columns</p>\n",
       "</div>"
      ],
      "text/plain": [
       "             MED-10        MED-14       MED-118       MED-301       MED-306  \\\n",
       "count  29052.000000  29052.000000  29052.000000  29052.000000  29052.000000   \n",
       "mean       0.002354      0.002171      0.001638      0.003018      0.003187   \n",
       "std        0.046716      0.044176      0.038856      0.064724      0.058811   \n",
       "min        0.000000      0.000000      0.000000      0.000000      0.000000   \n",
       "25%        0.000000      0.000000      0.000000      0.000000      0.000000   \n",
       "50%        0.000000      0.000000      0.000000      0.000000      0.000000   \n",
       "75%        0.000000      0.000000      0.000000      0.000000      0.000000   \n",
       "max        2.041651      1.760288      1.830837      3.207690      2.150165   \n",
       "\n",
       "            MED-329       MED-330       MED-332       MED-334       MED-335  \\\n",
       "count  29052.000000  29052.000000  29052.000000  29052.000000  29052.000000   \n",
       "mean       0.003790      0.002481      0.003265      0.002747      0.003261   \n",
       "std        0.072123      0.051291      0.057346      0.055517      0.064487   \n",
       "min        0.000000      0.000000      0.000000      0.000000      0.000000   \n",
       "25%        0.000000      0.000000      0.000000      0.000000      0.000000   \n",
       "50%        0.000000      0.000000      0.000000      0.000000      0.000000   \n",
       "75%        0.000000      0.000000      0.000000      0.000000      0.000000   \n",
       "max        2.726365      2.329816      2.329816      2.892300      3.083144   \n",
       "\n",
       "           ...            MED-938       MED-939       MED-940       MED-892  \\\n",
       "count      ...       29052.000000  29052.000000  29052.000000  29052.000000   \n",
       "mean       ...           0.002941      0.003522      0.003612      0.002682   \n",
       "std        ...           0.060830      0.062996      0.064073      0.052539   \n",
       "min        ...           0.000000      0.000000      0.000000      0.000000   \n",
       "25%        ...           0.000000      0.000000      0.000000      0.000000   \n",
       "50%        ...           0.000000      0.000000      0.000000      0.000000   \n",
       "75%        ...           0.000000      0.000000      0.000000      0.000000   \n",
       "max        ...           2.424320      3.478811      2.285474      3.053258   \n",
       "\n",
       "            MED-906       MED-917       MED-941       MED-942       MED-952  \\\n",
       "count  29052.000000  29052.000000  29052.000000  29052.000000  29052.000000   \n",
       "mean       0.002665      0.002355      0.003051      0.002124      0.002002   \n",
       "std        0.061833      0.056672      0.061891      0.054927      0.050109   \n",
       "min        0.000000      0.000000      0.000000      0.000000      0.000000   \n",
       "25%        0.000000      0.000000      0.000000      0.000000      0.000000   \n",
       "50%        0.000000      0.000000      0.000000      0.000000      0.000000   \n",
       "75%        0.000000      0.000000      0.000000      0.000000      0.000000   \n",
       "max        3.560265      2.169824      3.083144      2.789468      3.259235   \n",
       "\n",
       "            MED-961  \n",
       "count  29052.000000  \n",
       "mean       0.002293  \n",
       "std        0.045917  \n",
       "min        0.000000  \n",
       "25%        0.000000  \n",
       "50%        0.000000  \n",
       "75%        0.000000  \n",
       "max        1.727563  \n",
       "\n",
       "[8 rows x 3633 columns]"
      ]
     },
     "execution_count": 16,
     "metadata": {},
     "output_type": "execute_result"
    }
   ],
   "source": [
    "tfidf.describe()"
   ]
  }
 ],
 "metadata": {
  "kernelspec": {
   "display_name": "Python 3",
   "language": "python",
   "name": "python3"
  },
  "language_info": {
   "codemirror_mode": {
    "name": "ipython",
    "version": 3
   },
   "file_extension": ".py",
   "mimetype": "text/x-python",
   "name": "python",
   "nbconvert_exporter": "python",
   "pygments_lexer": "ipython3",
   "version": "3.6.4"
  }
 },
 "nbformat": 4,
 "nbformat_minor": 2
}
