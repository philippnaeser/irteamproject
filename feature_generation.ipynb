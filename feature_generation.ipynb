{
 "cells": [
  {
   "cell_type": "markdown",
   "metadata": {
    "collapsed": true
   },
   "source": [
    "# TFIDF, BM25, UnigramLM\n",
    "\n",
    "## 1.Collection and Vocabulary\n",
    "\n",
    "Import *collection_vocabulary.py* and create an instance of the collection class. Its attributes are the collection itself, the vocabulary, and some descriptive summary statistics (e.g. vocabulary size, collection size, collection length)."
   ]
  },
  {
   "cell_type": "markdown",
   "metadata": {},
   "source": [
    "**Table of Contents**\n",
    "1. Collection and Vocabulary\n",
    "2. Document Term Matrix\n",
    "3. Inverted Index\n",
    "4. TFIDF\n",
    "5. Unigram LM with J-M-Smoothing\n",
    "6. BM25\n",
    "7. Sample Queries\n",
    "\n",
    "We will fix and use the parameters of the different models as discussed in the lecture. "
   ]
  },
  {
   "cell_type": "code",
   "execution_count": 1,
   "metadata": {
    "collapsed": true
   },
   "outputs": [],
   "source": [
    "from collection_vocabulary import Collection\n",
    "col=Collection()"
   ]
  },
  {
   "cell_type": "markdown",
   "metadata": {},
   "source": [
    "## 2. Document Term Matrix\n",
    "The document term matrix is obtained as a lists of lists, and then converted to a Pandas dataframe, which is stored to disk to facilitate debugging, and further experimentation."
   ]
  },
  {
   "cell_type": "code",
   "execution_count": 2,
   "metadata": {
    "collapsed": true
   },
   "outputs": [],
   "source": [
    "doc_term_matrix=[]\n",
    "for doc in col.collection:\n",
    "    tf_vector =[]\n",
    "    for word in col.vocabulary:\n",
    "        n= col.collection[doc].count(word)\n",
    "        tf_vector.append(n)\n",
    "    doc_term_matrix.append(tf_vector)"
   ]
  },
  {
   "cell_type": "code",
   "execution_count": 3,
   "metadata": {
    "collapsed": true
   },
   "outputs": [],
   "source": [
    "import pandas as pd\n",
    "import numpy as np\n",
    "doc_term_matrix= pd.DataFrame(data=doc_term_matrix,index= col.collection.keys(),columns=col.vocabulary)\n",
    "doc_term_matrix.to_pickle('doc_term_matrix.pkl')"
   ]
  },
  {
   "cell_type": "code",
   "execution_count": 4,
   "metadata": {},
   "outputs": [
    {
     "data": {
      "text/html": [
       "<div>\n",
       "<style>\n",
       "    .dataframe thead tr:only-child th {\n",
       "        text-align: right;\n",
       "    }\n",
       "\n",
       "    .dataframe thead th {\n",
       "        text-align: left;\n",
       "    }\n",
       "\n",
       "    .dataframe tbody tr th {\n",
       "        vertical-align: top;\n",
       "    }\n",
       "</style>\n",
       "<table border=\"1\" class=\"dataframe\">\n",
       "  <thead>\n",
       "    <tr style=\"text-align: right;\">\n",
       "      <th></th>\n",
       "      <th>'hort</th>\n",
       "      <th>+</th>\n",
       "      <th>-</th>\n",
       "      <th>--a</th>\n",
       "      <th>--all</th>\n",
       "      <th>--have</th>\n",
       "      <th>--mainly</th>\n",
       "      <th>--of</th>\n",
       "      <th>--showed</th>\n",
       "      <th>--the</th>\n",
       "      <th>...</th>\n",
       "      <th>zooplankton</th>\n",
       "      <th>zoxazolamine</th>\n",
       "      <th>zr</th>\n",
       "      <th>zu</th>\n",
       "      <th>zuccarini</th>\n",
       "      <th>zucchini</th>\n",
       "      <th>zugesetztem</th>\n",
       "      <th>zusatzstoffe-online</th>\n",
       "      <th>zygote</th>\n",
       "      <th>zymography</th>\n",
       "    </tr>\n",
       "  </thead>\n",
       "  <tbody>\n",
       "    <tr>\n",
       "      <th>MED-10</th>\n",
       "      <td>0</td>\n",
       "      <td>0</td>\n",
       "      <td>0</td>\n",
       "      <td>0</td>\n",
       "      <td>0</td>\n",
       "      <td>0</td>\n",
       "      <td>0</td>\n",
       "      <td>0</td>\n",
       "      <td>0</td>\n",
       "      <td>0</td>\n",
       "      <td>...</td>\n",
       "      <td>0</td>\n",
       "      <td>0</td>\n",
       "      <td>0</td>\n",
       "      <td>0</td>\n",
       "      <td>0</td>\n",
       "      <td>0</td>\n",
       "      <td>0</td>\n",
       "      <td>0</td>\n",
       "      <td>0</td>\n",
       "      <td>0</td>\n",
       "    </tr>\n",
       "    <tr>\n",
       "      <th>MED-14</th>\n",
       "      <td>0</td>\n",
       "      <td>0</td>\n",
       "      <td>0</td>\n",
       "      <td>0</td>\n",
       "      <td>0</td>\n",
       "      <td>0</td>\n",
       "      <td>0</td>\n",
       "      <td>0</td>\n",
       "      <td>0</td>\n",
       "      <td>0</td>\n",
       "      <td>...</td>\n",
       "      <td>0</td>\n",
       "      <td>0</td>\n",
       "      <td>0</td>\n",
       "      <td>0</td>\n",
       "      <td>0</td>\n",
       "      <td>0</td>\n",
       "      <td>0</td>\n",
       "      <td>0</td>\n",
       "      <td>0</td>\n",
       "      <td>0</td>\n",
       "    </tr>\n",
       "    <tr>\n",
       "      <th>MED-118</th>\n",
       "      <td>0</td>\n",
       "      <td>0</td>\n",
       "      <td>0</td>\n",
       "      <td>0</td>\n",
       "      <td>0</td>\n",
       "      <td>0</td>\n",
       "      <td>0</td>\n",
       "      <td>0</td>\n",
       "      <td>0</td>\n",
       "      <td>0</td>\n",
       "      <td>...</td>\n",
       "      <td>0</td>\n",
       "      <td>0</td>\n",
       "      <td>0</td>\n",
       "      <td>0</td>\n",
       "      <td>0</td>\n",
       "      <td>0</td>\n",
       "      <td>0</td>\n",
       "      <td>0</td>\n",
       "      <td>0</td>\n",
       "      <td>0</td>\n",
       "    </tr>\n",
       "  </tbody>\n",
       "</table>\n",
       "<p>3 rows × 29052 columns</p>\n",
       "</div>"
      ],
      "text/plain": [
       "         'hort  +  -  --a  --all  --have  --mainly  --of  --showed  --the  \\\n",
       "MED-10       0  0  0    0      0       0         0     0         0      0   \n",
       "MED-14       0  0  0    0      0       0         0     0         0      0   \n",
       "MED-118      0  0  0    0      0       0         0     0         0      0   \n",
       "\n",
       "            ...      zooplankton  zoxazolamine  zr  zu  zuccarini  zucchini  \\\n",
       "MED-10      ...                0             0   0   0          0         0   \n",
       "MED-14      ...                0             0   0   0          0         0   \n",
       "MED-118     ...                0             0   0   0          0         0   \n",
       "\n",
       "         zugesetztem  zusatzstoffe-online  zygote  zymography  \n",
       "MED-10             0                    0       0           0  \n",
       "MED-14             0                    0       0           0  \n",
       "MED-118            0                    0       0           0  \n",
       "\n",
       "[3 rows x 29052 columns]"
      ]
     },
     "execution_count": 4,
     "metadata": {},
     "output_type": "execute_result"
    }
   ],
   "source": [
    "doc_term_matrix.head(3) # this is how the doc term matrix looks like"
   ]
  },
  {
   "cell_type": "code",
   "execution_count": 5,
   "metadata": {},
   "outputs": [
    {
     "data": {
      "text/plain": [
       "(3633, 29052)"
      ]
     },
     "execution_count": 5,
     "metadata": {},
     "output_type": "execute_result"
    }
   ],
   "source": [
    "# Sanity Check: should have dimensions 3633*29522\n",
    "doc_term_matrix.shape"
   ]
  },
  {
   "cell_type": "code",
   "execution_count": 6,
   "metadata": {},
   "outputs": [
    {
     "data": {
      "text/plain": [
       "count    3633.000000\n",
       "mean      146.204789\n",
       "std        53.995711\n",
       "min        11.000000\n",
       "25%       114.000000\n",
       "50%       148.000000\n",
       "75%       174.000000\n",
       "max       939.000000\n",
       "dtype: float64"
      ]
     },
     "execution_count": 6,
     "metadata": {},
     "output_type": "execute_result"
    }
   ],
   "source": [
    "# some summary stats for our project report and a sanity check that would reveal any empty docs\n",
    "doc_term_matrix.sum(axis=1).describe()"
   ]
  },
  {
   "cell_type": "markdown",
   "metadata": {},
   "source": [
    "## 3. Inverted Index\n",
    "\n",
    "The inverted index is our unified (and in practice memory-efficient) way of representing the document term matrix that we will use in the remainder of this project.\n",
    "\n"
   ]
  },
  {
   "cell_type": "markdown",
   "metadata": {},
   "source": [
    "This is a good point to start off the actual analysis and calculate different retrieval models."
   ]
  },
  {
   "cell_type": "code",
   "execution_count": 7,
   "metadata": {
    "collapsed": true
   },
   "outputs": [],
   "source": [
    "inverted_index= doc_term_matrix.transpose()\n",
    "inverted_index.to_pickle('inverted_index.pkl') # use later for embeddings, queries, ... "
   ]
  },
  {
   "cell_type": "code",
   "execution_count": 8,
   "metadata": {},
   "outputs": [
    {
     "data": {
      "text/plain": [
       "1"
      ]
     },
     "execution_count": 8,
     "metadata": {},
     "output_type": "execute_result"
    }
   ],
   "source": [
    "# sanity check 1\n",
    "# each term should occur at least once (implied by the way we construct the index), hence min>=1\n",
    "inverted_index.sum(axis=1).min()"
   ]
  },
  {
   "cell_type": "markdown",
   "metadata": {},
   "source": [
    "## 4. TF-IDF"
   ]
  },
  {
   "cell_type": "markdown",
   "metadata": {},
   "source": [
    "### IDF"
   ]
  },
  {
   "cell_type": "code",
   "execution_count": 9,
   "metadata": {
    "collapsed": true
   },
   "outputs": [],
   "source": [
    "df=(inverted_index>0).sum(axis=1)"
   ]
  },
  {
   "cell_type": "code",
   "execution_count": 10,
   "metadata": {
    "collapsed": true
   },
   "outputs": [],
   "source": [
    "raw_idf=(col.collection_size/df)"
   ]
  },
  {
   "cell_type": "code",
   "execution_count": 11,
   "metadata": {},
   "outputs": [
    {
     "data": {
      "text/plain": [
       "zucchini               3633.0\n",
       "zugesetztem            3633.0\n",
       "zusatzstoffe-online    3633.0\n",
       "zygote                 3633.0\n",
       "zymography             1816.5\n",
       "dtype: float64"
      ]
     },
     "execution_count": 11,
     "metadata": {},
     "output_type": "execute_result"
    }
   ],
   "source": [
    "raw_idf.tail()"
   ]
  },
  {
   "cell_type": "code",
   "execution_count": 12,
   "metadata": {},
   "outputs": [
    {
     "data": {
      "text/plain": [
       "zucchini               3.560265\n",
       "zugesetztem            3.560265\n",
       "zusatzstoffe-online    3.560265\n",
       "zygote                 3.560265\n",
       "zymography             3.259235\n",
       "dtype: float64"
      ]
     },
     "execution_count": 12,
     "metadata": {},
     "output_type": "execute_result"
    }
   ],
   "source": [
    "idf= np.log10(raw_idf) #aka log of raw_idf\n",
    "idf.tail()"
   ]
  },
  {
   "cell_type": "code",
   "execution_count": 13,
   "metadata": {},
   "outputs": [
    {
     "data": {
      "text/plain": [
       "True"
      ]
     },
     "execution_count": 13,
     "metadata": {},
     "output_type": "execute_result"
    }
   ],
   "source": [
    "# Sanity check: max tf score should be equal to number of docs in collection...\n",
    "raw_idf.max().max()==3633"
   ]
  },
  {
   "cell_type": "code",
   "execution_count": 14,
   "metadata": {},
   "outputs": [
    {
     "data": {
      "text/plain": [
       "3.5602653978627146"
      ]
     },
     "execution_count": 14,
     "metadata": {},
     "output_type": "execute_result"
    }
   ],
   "source": [
    "# Sanity check: ... and max idf score should be substantially lower\n",
    "idf.max().max()"
   ]
  },
  {
   "cell_type": "markdown",
   "metadata": {},
   "source": [
    "### TF\n",
    "Raw term frequency is what we obtain when we look columnwise at the  *inverted_index* dataframe.\n",
    "As discussed in the lecture, we will normalize this frequency by dividing with the raw frequency of the most frequent term in each document. Next, we then take the logarithm (any logarithm will do the job) since we assume that relevance does not increase linearly with term frequency."
   ]
  },
  {
   "cell_type": "code",
   "execution_count": 15,
   "metadata": {
    "collapsed": true
   },
   "outputs": [],
   "source": [
    "# nominator part\n",
    "nominator= inverted_index.applymap(lambda x: np.log10(x, out=np.zeros_like(inverted_index.as_matrix),where=x!=0))\n",
    "nominator= nominator+1"
   ]
  },
  {
   "cell_type": "code",
   "execution_count": 16,
   "metadata": {},
   "outputs": [
    {
     "data": {
      "text/plain": [
       "(29052, 3633)"
      ]
     },
     "execution_count": 16,
     "metadata": {},
     "output_type": "execute_result"
    }
   ],
   "source": [
    "nominator.shape"
   ]
  },
  {
   "cell_type": "code",
   "execution_count": 17,
   "metadata": {
    "collapsed": true
   },
   "outputs": [],
   "source": [
    "# denominator part\n",
    "most_frequent_term=inverted_index.max(axis=0) # determine most frequent term in each doc\n",
    "denominator= np.log10(most_frequent_term)\n",
    "denominator+=1"
   ]
  },
  {
   "cell_type": "code",
   "execution_count": 18,
   "metadata": {},
   "outputs": [
    {
     "data": {
      "text/plain": [
       "(3633,)"
      ]
     },
     "execution_count": 18,
     "metadata": {},
     "output_type": "execute_result"
    }
   ],
   "source": [
    "denominator.shape"
   ]
  },
  {
   "cell_type": "code",
   "execution_count": 19,
   "metadata": {},
   "outputs": [
    {
     "data": {
      "text/plain": [
       "1.0"
      ]
     },
     "execution_count": 19,
     "metadata": {},
     "output_type": "execute_result"
    }
   ],
   "source": [
    "#sanity check, there shouldn't be any zeros\n",
    "denominator.min()"
   ]
  },
  {
   "cell_type": "code",
   "execution_count": 20,
   "metadata": {},
   "outputs": [
    {
     "data": {
      "text/plain": [
       "1.0"
      ]
     },
     "execution_count": 20,
     "metadata": {},
     "output_type": "execute_result"
    }
   ],
   "source": [
    "#sanity check, there shouldn't be any zeros\n",
    "nominator.min().min()"
   ]
  },
  {
   "cell_type": "code",
   "execution_count": 21,
   "metadata": {
    "collapsed": true
   },
   "outputs": [],
   "source": [
    "#tf\n",
    "tf=nominator.div(denominator, axis=1)"
   ]
  },
  {
   "cell_type": "markdown",
   "metadata": {},
   "source": [
    "### TFIDF\n",
    "Bringing the pieces together."
   ]
  },
  {
   "cell_type": "code",
   "execution_count": 22,
   "metadata": {
    "collapsed": true
   },
   "outputs": [],
   "source": [
    "tfidf= tf.mul(idf, axis=0) # we multiply the tf scores in every doc with the corresponding idf scores\n",
    "tfidf.to_pickle('tfidf.pkl')"
   ]
  },
  {
   "cell_type": "code",
   "execution_count": 23,
   "metadata": {},
   "outputs": [
    {
     "data": {
      "text/plain": [
       "(29052, 3633)"
      ]
     },
     "execution_count": 23,
     "metadata": {},
     "output_type": "execute_result"
    }
   ],
   "source": [
    "tfidf.shape"
   ]
  },
  {
   "cell_type": "markdown",
   "metadata": {},
   "source": [
    "# 5. Unigram LM with Jelinek-Mercer-Smoothing\n"
   ]
  },
  {
   "cell_type": "markdown",
   "metadata": {},
   "source": [
    "### Global Language Model\n",
    "We want to find out how likely each word is if we look at the whole corpus. "
   ]
  },
  {
   "cell_type": "code",
   "execution_count": 24,
   "metadata": {
    "collapsed": true
   },
   "outputs": [],
   "source": [
    "global_LM=inverted_index.sum(axis=1)/col.collection_length # equal: inverted_index.sum(axis=1)/inverted_index.sum(axis=1).sum()"
   ]
  },
  {
   "cell_type": "markdown",
   "metadata": {},
   "source": [
    "### Local Language Models\n",
    "We want to obtain a language model for each document in the collection, therefore we look at the columns of the *inverted_index* dataframe. "
   ]
  },
  {
   "cell_type": "code",
   "execution_count": 25,
   "metadata": {
    "collapsed": true
   },
   "outputs": [],
   "source": [
    "local_LMs=inverted_index/inverted_index.sum()"
   ]
  },
  {
   "cell_type": "code",
   "execution_count": 26,
   "metadata": {},
   "outputs": [
    {
     "data": {
      "text/plain": [
       "3633.0"
      ]
     },
     "execution_count": 26,
     "metadata": {},
     "output_type": "execute_result"
    }
   ],
   "source": [
    "# Sanity Check: Probabilities should sum columnwise to 1, and adding all columns should yield the collection size (3633)\n",
    "local_LMs.sum().sum()"
   ]
  },
  {
   "cell_type": "markdown",
   "metadata": {},
   "source": [
    "### Unigram LM with J-M-Smoothing\n",
    "As introduced in the lecture, this smoothing scheme assigns equal weights to the global and local LMs."
   ]
  },
  {
   "cell_type": "code",
   "execution_count": 27,
   "metadata": {
    "collapsed": true
   },
   "outputs": [],
   "source": [
    "unigram_LM= (local_LMs.apply(lambda x: x+ global_LM)).apply(lambda x: x/2)# same as multiplying both by 0.5 and adding them\n",
    "unigram_LM.to_pickle('unigramLM.pkl')#writing Unigram-LM to disk"
   ]
  },
  {
   "cell_type": "code",
   "execution_count": 28,
   "metadata": {},
   "outputs": [
    {
     "data": {
      "text/plain": [
       "3633.0000000012674"
      ]
     },
     "execution_count": 28,
     "metadata": {},
     "output_type": "execute_result"
    }
   ],
   "source": [
    "# sanity check: probabilities in every doc should sum up to one and all docs should sum up tp 3633\n",
    "unigram_LM.sum().sum() "
   ]
  },
  {
   "cell_type": "code",
   "execution_count": 29,
   "metadata": {},
   "outputs": [
    {
     "data": {
      "text/plain": [
       "False"
      ]
     },
     "execution_count": 29,
     "metadata": {},
     "output_type": "execute_result"
    }
   ],
   "source": [
    "#sanity check: we don't want to have any negative values \n",
    "unigram_LM.min().min()<0"
   ]
  },
  {
   "cell_type": "code",
   "execution_count": 30,
   "metadata": {},
   "outputs": [
    {
     "data": {
      "text/plain": [
       "True"
      ]
     },
     "execution_count": 30,
     "metadata": {},
     "output_type": "execute_result"
    }
   ],
   "source": [
    "#sanity check: we don't want to have any zeros (since we are smoothing)\n",
    "unigram_LM.isnull().sum(axis=1).sum()==0 # we check whether therer are no zeros > True intended"
   ]
  },
  {
   "cell_type": "code",
   "execution_count": 31,
   "metadata": {},
   "outputs": [
    {
     "data": {
      "text/plain": [
       "'\\nomitted: operating in log-space to avoid numerical instability\\nglobal_LM_log_space=np.log(global_LM)\\nlocal_LMs_log_space=local_LMs.applymap(lambda x: np.log(x, out=np.zeros_like(inverted_index.as_matrix),where=x!=0))\\n\\n '"
      ]
     },
     "execution_count": 31,
     "metadata": {},
     "output_type": "execute_result"
    }
   ],
   "source": [
    "'''\n",
    "omitted: operating in log-space to avoid numerical instability\n",
    "global_LM_log_space=np.log(global_LM)\n",
    "local_LMs_log_space=local_LMs.applymap(lambda x: np.log(x, out=np.zeros_like(inverted_index.as_matrix),where=x!=0))\n",
    "\n",
    " '''"
   ]
  },
  {
   "cell_type": "markdown",
   "metadata": {},
   "source": [
    "# 6. BIM 25\n",
    "Let's approach BIM25 step by step, which means modeling the BIM and then gradually extending it. \n",
    "We start from the naive assumption that we do not have any relevance feedbacks.\n",
    "\n",
    "\n",
    "### BIM \n",
    "This simplification results in the following formula we want to compute:\n",
    "w_t= log(0.5 * N/N_t)\n",
    "\n",
    "N_t signifies in how many documents a term appears. This is what we already calucalted as the 'raw' document frequency in the TFIDF-model above. \n",
    "What we are basically doing is multiplying the raw inverse document frequency by 0.5 and then taking the logarithm.\n",
    "\n",
    "Note: This can (and is intended to) produce negative values for words occuring in almost every document."
   ]
  },
  {
   "cell_type": "code",
   "execution_count": 32,
   "metadata": {},
   "outputs": [
    {
     "data": {
      "text/plain": [
       "'hort    3.259235\n",
       "+        2.782114\n",
       "-        3.259235\n",
       "--a      3.259235\n",
       "--all    3.259235\n",
       "dtype: float64"
      ]
     },
     "execution_count": 32,
     "metadata": {},
     "output_type": "execute_result"
    }
   ],
   "source": [
    "BIM= np.log10(raw_idf*0.5) # raw idf calculated above in tfidf\n",
    "BIM.head()"
   ]
  },
  {
   "cell_type": "code",
   "execution_count": 33,
   "metadata": {},
   "outputs": [
    {
     "data": {
      "text/plain": [
       "4"
      ]
     },
     "execution_count": 33,
     "metadata": {},
     "output_type": "execute_result"
    }
   ],
   "source": [
    "# observation: in BIM 25 weights may actually become negative - we have four negative weights\n",
    "sum(BIM<0)"
   ]
  },
  {
   "cell_type": "markdown",
   "metadata": {},
   "source": [
    "### BM 25\n",
    "Let's focus on the weighting part and then multiply these weights with the BIM weights from above."
   ]
  },
  {
   "cell_type": "code",
   "execution_count": 34,
   "metadata": {},
   "outputs": [
    {
     "data": {
      "text/plain": [
       "False"
      ]
     },
     "execution_count": 34,
     "metadata": {},
     "output_type": "execute_result"
    }
   ],
   "source": [
    "# parameters as presented in the lecture\n",
    "k=1.5\n",
    "b=0.25\n",
    "document_lenght= inverted_index.sum()\n",
    "average_document_length= col.collection_length/col.collection_size # 146.20478943022295 TODO: include in project report\n",
    "doc_len_div_by_avg_doc_len= document_lenght/average_document_length\n",
    "#sanity check, should yield 3633\n",
    "doc_len_div_by_avg_doc_len.sum() == 3633"
   ]
  },
  {
   "cell_type": "code",
   "execution_count": 35,
   "metadata": {},
   "outputs": [
    {
     "data": {
      "text/plain": [
       "(29052, 3633)"
      ]
     },
     "execution_count": 35,
     "metadata": {},
     "output_type": "execute_result"
    }
   ],
   "source": [
    "weighting_bim25_nominator= inverted_index.apply(lambda x: x*(k+1))\n",
    "weighting_bim25_nominator.shape"
   ]
  },
  {
   "cell_type": "code",
   "execution_count": 36,
   "metadata": {},
   "outputs": [
    {
     "data": {
      "text/plain": [
       "(29052, 3633)"
      ]
     },
     "execution_count": 36,
     "metadata": {},
     "output_type": "execute_result"
    }
   ],
   "source": [
    "#the denominator is the tricky part since we have to add scalars and a vector to each column in the inverted index at the same time\n",
    "weighting_bim25_denominator=inverted_index.add((doc_len_div_by_avg_doc_len*k*b), axis=1)+(k*(1-b))\n",
    "weighting_bim25_denominator.shape"
   ]
  },
  {
   "cell_type": "code",
   "execution_count": 37,
   "metadata": {
    "collapsed": true
   },
   "outputs": [],
   "source": [
    "#merging nominator and denominator\n",
    "weighting_bim25= weighting_bim25_nominator.div(weighting_bim25_denominator)"
   ]
  },
  {
   "cell_type": "code",
   "execution_count": 38,
   "metadata": {},
   "outputs": [
    {
     "data": {
      "text/plain": [
       "(29052, 3633)"
      ]
     },
     "execution_count": 38,
     "metadata": {},
     "output_type": "execute_result"
    }
   ],
   "source": [
    "#sanity check: 29052, 3633 ?\n",
    "weighting_bim25.shape"
   ]
  },
  {
   "cell_type": "markdown",
   "metadata": {},
   "source": [
    "Combining the weights, and the vanilla BIM from above, we can now construct BIM25."
   ]
  },
  {
   "cell_type": "code",
   "execution_count": 39,
   "metadata": {
    "collapsed": true
   },
   "outputs": [],
   "source": [
    "BIM25=weighting_bim25.mul(BIM, axis=0)\n",
    "BIM25.to_pickle('BIM25.pkl')"
   ]
  },
  {
   "cell_type": "markdown",
   "metadata": {},
   "source": [
    "# 7. Querying\n",
    "\n",
    "@Philipp Naeser: please look at *query.py* which already specifies in a class how a query should look like.\n",
    "Actually it may make sense to reinvert the inverted index, so you can pick the tfidf value columnwise."
   ]
  },
  {
   "cell_type": "markdown",
   "metadata": {},
   "source": [
    "### Sample single term queries"
   ]
  },
  {
   "cell_type": "markdown",
   "metadata": {},
   "source": [
    "Let's look at the same single term query  - \"cancer\". And compare the results of the three retrieval models."
   ]
  },
  {
   "cell_type": "code",
   "execution_count": 40,
   "metadata": {},
   "outputs": [
    {
     "data": {
      "text/plain": [
       "MED-3718    0.695754\n",
       "MED-2322    0.695754\n",
       "MED-5063    0.695754\n",
       "MED-2137    0.695754\n",
       "MED-4096    0.695754\n",
       "MED-4643    0.695754\n",
       "MED-4117    0.695754\n",
       "MED-1414    0.695754\n",
       "MED-3551    0.695754\n",
       "MED-3550    0.695754\n",
       "Name: cancer, dtype: float64"
      ]
     },
     "execution_count": 40,
     "metadata": {},
     "output_type": "execute_result"
    }
   ],
   "source": [
    "#TFIDF\n",
    "a= tfidf.loc['cancer'].sort_values(ascending=False).head(10) # if you transpose you can directly select by the index term  > tf.transpose().cancer\n",
    "a"
   ]
  },
  {
   "cell_type": "code",
   "execution_count": 41,
   "metadata": {},
   "outputs": [
    {
     "data": {
      "text/plain": [
       "MED-3703    0.081339\n",
       "MED-2137    0.061650\n",
       "MED-2174    0.057772\n",
       "MED-4391    0.052210\n",
       "MED-890     0.048745\n",
       "MED-5184    0.048281\n",
       "MED-3551    0.047909\n",
       "MED-3555    0.047347\n",
       "MED-2258    0.045462\n",
       "MED-3699    0.044962\n",
       "Name: cancer, dtype: float64"
      ]
     },
     "execution_count": 41,
     "metadata": {},
     "output_type": "execute_result"
    }
   ],
   "source": [
    "# Unigram LM\n",
    "b= unigram_LM.loc['cancer'].sort_values(ascending=False).head(10)\n",
    "b"
   ]
  },
  {
   "cell_type": "code",
   "execution_count": 42,
   "metadata": {},
   "outputs": [
    {
     "data": {
      "text/plain": [
       "MED-3703    0.917499\n",
       "MED-1721    0.895649\n",
       "MED-2760    0.894057\n",
       "MED-3699    0.892689\n",
       "MED-3555    0.884759\n",
       "MED-14      0.881640\n",
       "MED-4928    0.880848\n",
       "MED-5353    0.877033\n",
       "MED-4050    0.876367\n",
       "MED-4785    0.876234\n",
       "Name: cancer, dtype: float64"
      ]
     },
     "execution_count": 42,
     "metadata": {},
     "output_type": "execute_result"
    }
   ],
   "source": [
    "c= BIM25.loc['cancer'].sort_values(ascending=False).head(10)\n",
    "c"
   ]
  },
  {
   "cell_type": "markdown",
   "metadata": {},
   "source": [
    "Obviously, there is very little overlap in the top 10 retrieved documents. Only the top-ranked doc of the probabilisitic ranking models matches.\n",
    "\n",
    "Now, let's get the query representations and compute the scores for each document"
   ]
  },
  {
   "cell_type": "code",
   "execution_count": 43,
   "metadata": {
    "collapsed": true
   },
   "outputs": [],
   "source": [
    "#To speed things up, load the pickle files. If you just ran the whole script, you do not need this step\n",
    "#Note: pkl files are excluded from git for being to large, so you have to run the whole script once\n",
    "tfidf = pd.read_pickle('tfidf.pkl')\n",
    "BIM25 = pd.read_pickle('BIM25.pkl')\n",
    "unigram_LM = pd.read_pickle('unigramLM.pkl')"
   ]
  },
  {
   "cell_type": "code",
   "execution_count": 44,
   "metadata": {},
   "outputs": [
    {
     "name": "stdout",
     "output_type": "stream",
     "text": [
      "              1              3\n",
      "count  139350.0  139350.000000\n",
      "mean        0.0       1.824212\n",
      "std         0.0       0.454204\n",
      "min         0.0       1.000000\n",
      "25%         0.0       2.000000\n",
      "50%         0.0       2.000000\n",
      "75%         0.0       2.000000\n",
      "max         0.0       3.000000\n",
      "             1             3\n",
      "count  15820.0  15820.000000\n",
      "mean       0.0      1.816056\n",
      "std        0.0      0.472168\n",
      "min        0.0      1.000000\n",
      "25%        0.0      2.000000\n",
      "50%        0.0      2.000000\n",
      "75%        0.0      2.000000\n",
      "max        0.0      3.000000\n"
     ]
    }
   ],
   "source": [
    "#Now to get the queries\n",
    "train_queries = pd.read_csv('nfcorpus/train.all.queries', sep='\\t', header=None)\n",
    "train_queries.columns = ['id', 'text']\n",
    "dev_queries = pd.read_csv('nfcorpus/dev.all.queries', sep='\\t', header=None)\n",
    "dev_queries.columns = ['id', 'text']\n",
    "test_queries = pd.read_csv('nfcorpus/test.all.queries', sep='\\t', header=None)\n",
    "test_queries.columns = ['id', 'text']\n",
    "\n",
    "#And the relevance scores given\n",
    "train_rel = pd.read_csv('nfcorpus/train.3-2-1.qrel', sep='\\t', header=None)\n",
    "print(train_rel.describe())\n",
    "test_rel = pd.read_csv('nfcorpus/test.3-2-1.qrel', sep='\\t', header=None)\n",
    "print(test_rel.describe())\n",
    "dev_rel = pd.read_csv('nfcorpus/dev.3-2-1.qrel', sep='\\t', header=None)\n",
    "#As we can see, column 1 is always 0, so drop it\n",
    "train_rel = train_rel.drop([1], axis=1)\n",
    "dev_rel = dev_rel.drop([1], axis=1)\n",
    "test_rel = test_rel.drop([1], axis=1)\n",
    "train_rel.columns = ['qid', 'docid', 'rel']\n",
    "dev_rel.columns = ['qid', 'docid', 'rel']\n",
    "test_rel.columns = ['qid', 'docid', 'rel']"
   ]
  },
  {
   "cell_type": "code",
   "execution_count": 45,
   "metadata": {},
   "outputs": [
    {
     "name": "stdout",
     "output_type": "stream",
     "text": [
      "MED-2427\n",
      "MED-10\n",
      "MED-2429\n",
      "MED-2430\n",
      "MED-2431\n",
      "MED-14\n",
      "MED-2432\n",
      "MED-5322\n",
      "MED-5323\n",
      "MED-5324\n",
      "MED-5325\n",
      "MED-5326\n",
      "MED-5327\n",
      "MED-5328\n",
      "MED-5329\n",
      "MED-5330\n",
      "MED-5331\n",
      "MED-5332\n",
      "MED-5333\n",
      "MED-5334\n",
      "MED-5335\n",
      "MED-5363\n",
      "MED-5337\n",
      "MED-5338\n",
      "MED-5339\n",
      "MED-5340\n",
      "MED-5341\n",
      "MED-5342\n",
      "MED-2428\n",
      "MED-2440\n",
      "MED-2434\n",
      "MED-2435\n",
      "MED-2436\n",
      "MED-2437\n",
      "MED-2438\n",
      "MED-2439\n",
      "MED-3597\n",
      "MED-3598\n",
      "MED-3599\n",
      "MED-4556\n",
      "MED-4559\n",
      "MED-4560\n",
      "MED-4828\n",
      "MED-4829\n",
      "MED-4830\n",
      "3\n",
      "3\n",
      "3\n",
      "3\n",
      "3\n",
      "3\n",
      "3\n",
      "1\n",
      "1\n",
      "1\n",
      "1\n",
      "1\n",
      "1\n",
      "1\n",
      "1\n",
      "1\n",
      "1\n",
      "1\n",
      "1\n",
      "1\n",
      "1\n",
      "1\n",
      "1\n",
      "1\n",
      "1\n",
      "1\n",
      "1\n",
      "1\n",
      "2\n",
      "2\n",
      "2\n",
      "2\n",
      "2\n",
      "2\n",
      "2\n",
      "2\n",
      "2\n",
      "2\n",
      "2\n",
      "2\n",
      "2\n",
      "2\n",
      "2\n",
      "2\n",
      "2\n"
     ]
    }
   ],
   "source": [
    "#Just some experimenting, delete this later\n",
    "for doc in test_rel.loc[(test_rel['qid'] == 'PLAIN-2')].docid:\n",
    "    print(doc)\n",
    "rel_temp = test_rel.loc[(test_rel['qid'] == 'PLAIN-2')]\n",
    "for row in rel_temp.itertuples():\n",
    "    print(row.rel)"
   ]
  },
  {
   "cell_type": "code",
   "execution_count": 46,
   "metadata": {
    "collapsed": true
   },
   "outputs": [],
   "source": [
    "#this function assumes that tfidf, bim25 and unigam_LM are set\n",
    "def compute_scores(queries, rel):\n",
    "    #Compute the scores, this went to be less lines of code than initially (and expected)\n",
    "    doc_keys = tfidf.columns\n",
    "    list_of_df = []\n",
    "    query_keys = queries['id']\n",
    "    for key in query_keys:\n",
    "        text = str(queries.loc[queries['id'] == key].text)\n",
    "        tfidf_scores = tfidf.loc[text.split()].sum()\n",
    "        bim25_scores = BIM25.loc[text.split()].sum()\n",
    "        unigram_scores = unigram_LM.loc[text.split()].product()\n",
    "        total = pd.DataFrame()\n",
    "        total['tfidf'] = tfidf_scores\n",
    "        total['bim25'] = bim25_scores\n",
    "        total['unigram'] = unigram_scores\n",
    "        total['qid'] = key.replace('PLAIN-', '')\n",
    "        #Rel only contains 1 and 2, everything that is not in there is set to 0\n",
    "        total['rel'] = 0\n",
    "        rel_temp = rel.loc[(rel['qid'] == key)]\n",
    "        for row in rel_temp.itertuples():\n",
    "            total.at[row.docid, 'rel'] = row.rel\n",
    "        total.set_index(np.arange(len(doc_keys)))\n",
    "        total.rename(columns={'': 'docid'}, inplace=True)\n",
    "        list_of_df.append(total)\n",
    "\n",
    "    scores = pd.concat(list_of_df)\n",
    "    #Sanity check: should be same\n",
    "    print(len(scores))\n",
    "    print(len(doc_keys)*len(query_keys))\n",
    "    return scores"
   ]
  },
  {
   "cell_type": "code",
   "execution_count": 47,
   "metadata": {},
   "outputs": [
    {
     "name": "stdout",
     "output_type": "stream",
     "text": [
      "9424002\n",
      "9424002\n",
      "1180725\n",
      "1180725\n",
      "1180725\n",
      "1180725\n"
     ]
    }
   ],
   "source": [
    "train_scores = compute_scores(train_queries, train_rel)\n",
    "dev_scores = compute_scores(dev_queries, dev_rel)\n",
    "test_scores = compute_scores(test_queries, test_rel)"
   ]
  },
  {
   "cell_type": "code",
   "execution_count": 48,
   "metadata": {},
   "outputs": [
    {
     "data": {
      "text/html": [
       "<div>\n",
       "<style>\n",
       "    .dataframe thead tr:only-child th {\n",
       "        text-align: right;\n",
       "    }\n",
       "\n",
       "    .dataframe thead th {\n",
       "        text-align: left;\n",
       "    }\n",
       "\n",
       "    .dataframe tbody tr th {\n",
       "        vertical-align: top;\n",
       "    }\n",
       "</style>\n",
       "<table border=\"1\" class=\"dataframe\">\n",
       "  <thead>\n",
       "    <tr style=\"text-align: right;\">\n",
       "      <th></th>\n",
       "      <th>tfidf</th>\n",
       "      <th>bim25</th>\n",
       "      <th>unigram</th>\n",
       "      <th>qid</th>\n",
       "      <th>rel</th>\n",
       "    </tr>\n",
       "  </thead>\n",
       "  <tbody>\n",
       "    <tr>\n",
       "      <th>MED-10</th>\n",
       "      <td>5.023640</td>\n",
       "      <td>0.000000</td>\n",
       "      <td>2.314569e-23</td>\n",
       "      <td>10</td>\n",
       "      <td>0</td>\n",
       "    </tr>\n",
       "    <tr>\n",
       "      <th>MED-14</th>\n",
       "      <td>4.971875</td>\n",
       "      <td>0.000000</td>\n",
       "      <td>2.314569e-23</td>\n",
       "      <td>10</td>\n",
       "      <td>0</td>\n",
       "    </tr>\n",
       "    <tr>\n",
       "      <th>MED-118</th>\n",
       "      <td>5.140227</td>\n",
       "      <td>0.000000</td>\n",
       "      <td>2.314569e-23</td>\n",
       "      <td>10</td>\n",
       "      <td>0</td>\n",
       "    </tr>\n",
       "    <tr>\n",
       "      <th>MED-301</th>\n",
       "      <td>6.371605</td>\n",
       "      <td>0.000000</td>\n",
       "      <td>2.314569e-23</td>\n",
       "      <td>10</td>\n",
       "      <td>0</td>\n",
       "    </tr>\n",
       "    <tr>\n",
       "      <th>MED-306</th>\n",
       "      <td>5.140227</td>\n",
       "      <td>0.000000</td>\n",
       "      <td>2.314569e-23</td>\n",
       "      <td>10</td>\n",
       "      <td>0</td>\n",
       "    </tr>\n",
       "    <tr>\n",
       "      <th>MED-329</th>\n",
       "      <td>6.668556</td>\n",
       "      <td>0.931327</td>\n",
       "      <td>1.404000e-22</td>\n",
       "      <td>10</td>\n",
       "      <td>0</td>\n",
       "    </tr>\n",
       "    <tr>\n",
       "      <th>MED-330</th>\n",
       "      <td>5.549975</td>\n",
       "      <td>0.000000</td>\n",
       "      <td>2.314569e-23</td>\n",
       "      <td>10</td>\n",
       "      <td>0</td>\n",
       "    </tr>\n",
       "    <tr>\n",
       "      <th>MED-332</th>\n",
       "      <td>5.797478</td>\n",
       "      <td>0.000000</td>\n",
       "      <td>2.314569e-23</td>\n",
       "      <td>10</td>\n",
       "      <td>0</td>\n",
       "    </tr>\n",
       "    <tr>\n",
       "      <th>MED-334</th>\n",
       "      <td>5.206435</td>\n",
       "      <td>0.000000</td>\n",
       "      <td>2.314569e-23</td>\n",
       "      <td>10</td>\n",
       "      <td>0</td>\n",
       "    </tr>\n",
       "    <tr>\n",
       "      <th>MED-335</th>\n",
       "      <td>5.664839</td>\n",
       "      <td>0.000000</td>\n",
       "      <td>2.314569e-23</td>\n",
       "      <td>10</td>\n",
       "      <td>0</td>\n",
       "    </tr>\n",
       "    <tr>\n",
       "      <th>MED-398</th>\n",
       "      <td>6.668556</td>\n",
       "      <td>0.000000</td>\n",
       "      <td>2.314569e-23</td>\n",
       "      <td>10</td>\n",
       "      <td>0</td>\n",
       "    </tr>\n",
       "    <tr>\n",
       "      <th>MED-557</th>\n",
       "      <td>6.140420</td>\n",
       "      <td>0.000000</td>\n",
       "      <td>2.314569e-23</td>\n",
       "      <td>10</td>\n",
       "      <td>0</td>\n",
       "    </tr>\n",
       "    <tr>\n",
       "      <th>MED-666</th>\n",
       "      <td>5.023640</td>\n",
       "      <td>0.000000</td>\n",
       "      <td>2.314569e-23</td>\n",
       "      <td>10</td>\n",
       "      <td>0</td>\n",
       "    </tr>\n",
       "    <tr>\n",
       "      <th>MED-691</th>\n",
       "      <td>7.670107</td>\n",
       "      <td>0.000000</td>\n",
       "      <td>2.314569e-23</td>\n",
       "      <td>10</td>\n",
       "      <td>0</td>\n",
       "    </tr>\n",
       "    <tr>\n",
       "      <th>MED-692</th>\n",
       "      <td>6.140420</td>\n",
       "      <td>0.000000</td>\n",
       "      <td>2.314569e-23</td>\n",
       "      <td>10</td>\n",
       "      <td>0</td>\n",
       "    </tr>\n",
       "    <tr>\n",
       "      <th>MED-702</th>\n",
       "      <td>5.664839</td>\n",
       "      <td>0.000000</td>\n",
       "      <td>2.314569e-23</td>\n",
       "      <td>10</td>\n",
       "      <td>0</td>\n",
       "    </tr>\n",
       "    <tr>\n",
       "      <th>MED-706</th>\n",
       "      <td>5.549975</td>\n",
       "      <td>0.000000</td>\n",
       "      <td>2.314569e-23</td>\n",
       "      <td>10</td>\n",
       "      <td>0</td>\n",
       "    </tr>\n",
       "    <tr>\n",
       "      <th>MED-707</th>\n",
       "      <td>5.664839</td>\n",
       "      <td>0.000000</td>\n",
       "      <td>2.314569e-23</td>\n",
       "      <td>10</td>\n",
       "      <td>0</td>\n",
       "    </tr>\n",
       "    <tr>\n",
       "      <th>MED-708</th>\n",
       "      <td>4.724754</td>\n",
       "      <td>0.000000</td>\n",
       "      <td>2.314569e-23</td>\n",
       "      <td>10</td>\n",
       "      <td>0</td>\n",
       "    </tr>\n",
       "    <tr>\n",
       "      <th>MED-709</th>\n",
       "      <td>5.549975</td>\n",
       "      <td>0.000000</td>\n",
       "      <td>2.314569e-23</td>\n",
       "      <td>10</td>\n",
       "      <td>0</td>\n",
       "    </tr>\n",
       "    <tr>\n",
       "      <th>MED-711</th>\n",
       "      <td>5.953306</td>\n",
       "      <td>0.000000</td>\n",
       "      <td>2.314569e-23</td>\n",
       "      <td>10</td>\n",
       "      <td>0</td>\n",
       "    </tr>\n",
       "    <tr>\n",
       "      <th>MED-712</th>\n",
       "      <td>5.664839</td>\n",
       "      <td>0.000000</td>\n",
       "      <td>2.314569e-23</td>\n",
       "      <td>10</td>\n",
       "      <td>0</td>\n",
       "    </tr>\n",
       "    <tr>\n",
       "      <th>MED-713</th>\n",
       "      <td>6.668556</td>\n",
       "      <td>0.000000</td>\n",
       "      <td>2.314569e-23</td>\n",
       "      <td>10</td>\n",
       "      <td>0</td>\n",
       "    </tr>\n",
       "    <tr>\n",
       "      <th>MED-714</th>\n",
       "      <td>5.664839</td>\n",
       "      <td>0.000000</td>\n",
       "      <td>2.314569e-23</td>\n",
       "      <td>10</td>\n",
       "      <td>0</td>\n",
       "    </tr>\n",
       "    <tr>\n",
       "      <th>MED-716</th>\n",
       "      <td>5.797478</td>\n",
       "      <td>0.975177</td>\n",
       "      <td>1.890716e-22</td>\n",
       "      <td>10</td>\n",
       "      <td>0</td>\n",
       "    </tr>\n",
       "    <tr>\n",
       "      <th>MED-717</th>\n",
       "      <td>5.140227</td>\n",
       "      <td>0.000000</td>\n",
       "      <td>2.314569e-23</td>\n",
       "      <td>10</td>\n",
       "      <td>0</td>\n",
       "    </tr>\n",
       "    <tr>\n",
       "      <th>MED-718</th>\n",
       "      <td>5.359499</td>\n",
       "      <td>0.000000</td>\n",
       "      <td>2.314569e-23</td>\n",
       "      <td>10</td>\n",
       "      <td>0</td>\n",
       "    </tr>\n",
       "    <tr>\n",
       "      <th>MED-719</th>\n",
       "      <td>8.708237</td>\n",
       "      <td>0.000000</td>\n",
       "      <td>2.314569e-23</td>\n",
       "      <td>10</td>\n",
       "      <td>0</td>\n",
       "    </tr>\n",
       "    <tr>\n",
       "      <th>MED-720</th>\n",
       "      <td>6.140420</td>\n",
       "      <td>0.000000</td>\n",
       "      <td>2.314569e-23</td>\n",
       "      <td>10</td>\n",
       "      <td>0</td>\n",
       "    </tr>\n",
       "    <tr>\n",
       "      <th>MED-721</th>\n",
       "      <td>5.664839</td>\n",
       "      <td>0.953745</td>\n",
       "      <td>1.616350e-22</td>\n",
       "      <td>10</td>\n",
       "      <td>0</td>\n",
       "    </tr>\n",
       "    <tr>\n",
       "      <th>...</th>\n",
       "      <td>...</td>\n",
       "      <td>...</td>\n",
       "      <td>...</td>\n",
       "      <td>...</td>\n",
       "      <td>...</td>\n",
       "    </tr>\n",
       "    <tr>\n",
       "      <th>MED-5363</th>\n",
       "      <td>8.493702</td>\n",
       "      <td>0.000000</td>\n",
       "      <td>3.798837e-33</td>\n",
       "      <td>999</td>\n",
       "      <td>0</td>\n",
       "    </tr>\n",
       "    <tr>\n",
       "      <th>MED-5364</th>\n",
       "      <td>7.765307</td>\n",
       "      <td>0.000000</td>\n",
       "      <td>3.798837e-33</td>\n",
       "      <td>999</td>\n",
       "      <td>0</td>\n",
       "    </tr>\n",
       "    <tr>\n",
       "      <th>MED-5365</th>\n",
       "      <td>10.394544</td>\n",
       "      <td>0.000000</td>\n",
       "      <td>3.798837e-33</td>\n",
       "      <td>999</td>\n",
       "      <td>0</td>\n",
       "    </tr>\n",
       "    <tr>\n",
       "      <th>MED-5366</th>\n",
       "      <td>8.032520</td>\n",
       "      <td>0.000000</td>\n",
       "      <td>3.798837e-33</td>\n",
       "      <td>999</td>\n",
       "      <td>0</td>\n",
       "    </tr>\n",
       "    <tr>\n",
       "      <th>MED-5367</th>\n",
       "      <td>8.286704</td>\n",
       "      <td>0.000000</td>\n",
       "      <td>3.798837e-33</td>\n",
       "      <td>999</td>\n",
       "      <td>0</td>\n",
       "    </tr>\n",
       "    <tr>\n",
       "      <th>MED-5368</th>\n",
       "      <td>7.378030</td>\n",
       "      <td>0.000000</td>\n",
       "      <td>3.798837e-33</td>\n",
       "      <td>999</td>\n",
       "      <td>0</td>\n",
       "    </tr>\n",
       "    <tr>\n",
       "      <th>MED-5369</th>\n",
       "      <td>8.889591</td>\n",
       "      <td>0.000000</td>\n",
       "      <td>3.798837e-33</td>\n",
       "      <td>999</td>\n",
       "      <td>0</td>\n",
       "    </tr>\n",
       "    <tr>\n",
       "      <th>MED-5370</th>\n",
       "      <td>7.265164</td>\n",
       "      <td>0.000000</td>\n",
       "      <td>3.798837e-33</td>\n",
       "      <td>999</td>\n",
       "      <td>0</td>\n",
       "    </tr>\n",
       "    <tr>\n",
       "      <th>MED-5371</th>\n",
       "      <td>7.890579</td>\n",
       "      <td>0.000000</td>\n",
       "      <td>3.798837e-33</td>\n",
       "      <td>999</td>\n",
       "      <td>0</td>\n",
       "    </tr>\n",
       "    <tr>\n",
       "      <th>MED-847</th>\n",
       "      <td>7.653530</td>\n",
       "      <td>0.000000</td>\n",
       "      <td>3.798837e-33</td>\n",
       "      <td>999</td>\n",
       "      <td>0</td>\n",
       "    </tr>\n",
       "    <tr>\n",
       "      <th>MED-873</th>\n",
       "      <td>8.385692</td>\n",
       "      <td>0.000000</td>\n",
       "      <td>3.798837e-33</td>\n",
       "      <td>999</td>\n",
       "      <td>0</td>\n",
       "    </tr>\n",
       "    <tr>\n",
       "      <th>MED-874</th>\n",
       "      <td>10.394544</td>\n",
       "      <td>0.000000</td>\n",
       "      <td>3.798837e-33</td>\n",
       "      <td>999</td>\n",
       "      <td>0</td>\n",
       "    </tr>\n",
       "    <tr>\n",
       "      <th>MED-875</th>\n",
       "      <td>10.017392</td>\n",
       "      <td>0.000000</td>\n",
       "      <td>3.798837e-33</td>\n",
       "      <td>999</td>\n",
       "      <td>0</td>\n",
       "    </tr>\n",
       "    <tr>\n",
       "      <th>MED-905</th>\n",
       "      <td>9.054148</td>\n",
       "      <td>0.000000</td>\n",
       "      <td>3.798837e-33</td>\n",
       "      <td>999</td>\n",
       "      <td>0</td>\n",
       "    </tr>\n",
       "    <tr>\n",
       "      <th>MED-914</th>\n",
       "      <td>10.878986</td>\n",
       "      <td>0.000000</td>\n",
       "      <td>3.798837e-33</td>\n",
       "      <td>999</td>\n",
       "      <td>0</td>\n",
       "    </tr>\n",
       "    <tr>\n",
       "      <th>MED-915</th>\n",
       "      <td>10.017392</td>\n",
       "      <td>0.000000</td>\n",
       "      <td>3.798837e-33</td>\n",
       "      <td>999</td>\n",
       "      <td>0</td>\n",
       "    </tr>\n",
       "    <tr>\n",
       "      <th>MED-924</th>\n",
       "      <td>10.878986</td>\n",
       "      <td>0.000000</td>\n",
       "      <td>3.798837e-33</td>\n",
       "      <td>999</td>\n",
       "      <td>0</td>\n",
       "    </tr>\n",
       "    <tr>\n",
       "      <th>MED-925</th>\n",
       "      <td>11.537065</td>\n",
       "      <td>0.000000</td>\n",
       "      <td>3.798837e-33</td>\n",
       "      <td>999</td>\n",
       "      <td>0</td>\n",
       "    </tr>\n",
       "    <tr>\n",
       "      <th>MED-926</th>\n",
       "      <td>10.394544</td>\n",
       "      <td>0.000000</td>\n",
       "      <td>3.798837e-33</td>\n",
       "      <td>999</td>\n",
       "      <td>0</td>\n",
       "    </tr>\n",
       "    <tr>\n",
       "      <th>MED-937</th>\n",
       "      <td>7.265164</td>\n",
       "      <td>0.000000</td>\n",
       "      <td>3.798837e-33</td>\n",
       "      <td>999</td>\n",
       "      <td>0</td>\n",
       "    </tr>\n",
       "    <tr>\n",
       "      <th>MED-938</th>\n",
       "      <td>9.241535</td>\n",
       "      <td>0.000000</td>\n",
       "      <td>3.798837e-33</td>\n",
       "      <td>999</td>\n",
       "      <td>0</td>\n",
       "    </tr>\n",
       "    <tr>\n",
       "      <th>MED-939</th>\n",
       "      <td>9.241535</td>\n",
       "      <td>0.000000</td>\n",
       "      <td>3.798837e-33</td>\n",
       "      <td>999</td>\n",
       "      <td>0</td>\n",
       "    </tr>\n",
       "    <tr>\n",
       "      <th>MED-940</th>\n",
       "      <td>8.032520</td>\n",
       "      <td>0.000000</td>\n",
       "      <td>3.798837e-33</td>\n",
       "      <td>999</td>\n",
       "      <td>0</td>\n",
       "    </tr>\n",
       "    <tr>\n",
       "      <th>MED-892</th>\n",
       "      <td>8.111044</td>\n",
       "      <td>0.000000</td>\n",
       "      <td>3.798837e-33</td>\n",
       "      <td>999</td>\n",
       "      <td>0</td>\n",
       "    </tr>\n",
       "    <tr>\n",
       "      <th>MED-906</th>\n",
       "      <td>9.712137</td>\n",
       "      <td>0.000000</td>\n",
       "      <td>3.798837e-33</td>\n",
       "      <td>999</td>\n",
       "      <td>0</td>\n",
       "    </tr>\n",
       "    <tr>\n",
       "      <th>MED-917</th>\n",
       "      <td>9.457921</td>\n",
       "      <td>0.000000</td>\n",
       "      <td>3.798837e-33</td>\n",
       "      <td>999</td>\n",
       "      <td>0</td>\n",
       "    </tr>\n",
       "    <tr>\n",
       "      <th>MED-941</th>\n",
       "      <td>9.241535</td>\n",
       "      <td>0.000000</td>\n",
       "      <td>3.798837e-33</td>\n",
       "      <td>999</td>\n",
       "      <td>0</td>\n",
       "    </tr>\n",
       "    <tr>\n",
       "      <th>MED-942</th>\n",
       "      <td>10.878986</td>\n",
       "      <td>0.000000</td>\n",
       "      <td>3.798837e-33</td>\n",
       "      <td>999</td>\n",
       "      <td>0</td>\n",
       "    </tr>\n",
       "    <tr>\n",
       "      <th>MED-952</th>\n",
       "      <td>10.017392</td>\n",
       "      <td>0.000000</td>\n",
       "      <td>3.798837e-33</td>\n",
       "      <td>999</td>\n",
       "      <td>0</td>\n",
       "    </tr>\n",
       "    <tr>\n",
       "      <th>MED-961</th>\n",
       "      <td>6.893475</td>\n",
       "      <td>0.000000</td>\n",
       "      <td>3.798837e-33</td>\n",
       "      <td>999</td>\n",
       "      <td>0</td>\n",
       "    </tr>\n",
       "  </tbody>\n",
       "</table>\n",
       "<p>9424002 rows × 5 columns</p>\n",
       "</div>"
      ],
      "text/plain": [
       "              tfidf     bim25       unigram  qid  rel\n",
       "MED-10     5.023640  0.000000  2.314569e-23   10    0\n",
       "MED-14     4.971875  0.000000  2.314569e-23   10    0\n",
       "MED-118    5.140227  0.000000  2.314569e-23   10    0\n",
       "MED-301    6.371605  0.000000  2.314569e-23   10    0\n",
       "MED-306    5.140227  0.000000  2.314569e-23   10    0\n",
       "MED-329    6.668556  0.931327  1.404000e-22   10    0\n",
       "MED-330    5.549975  0.000000  2.314569e-23   10    0\n",
       "MED-332    5.797478  0.000000  2.314569e-23   10    0\n",
       "MED-334    5.206435  0.000000  2.314569e-23   10    0\n",
       "MED-335    5.664839  0.000000  2.314569e-23   10    0\n",
       "MED-398    6.668556  0.000000  2.314569e-23   10    0\n",
       "MED-557    6.140420  0.000000  2.314569e-23   10    0\n",
       "MED-666    5.023640  0.000000  2.314569e-23   10    0\n",
       "MED-691    7.670107  0.000000  2.314569e-23   10    0\n",
       "MED-692    6.140420  0.000000  2.314569e-23   10    0\n",
       "MED-702    5.664839  0.000000  2.314569e-23   10    0\n",
       "MED-706    5.549975  0.000000  2.314569e-23   10    0\n",
       "MED-707    5.664839  0.000000  2.314569e-23   10    0\n",
       "MED-708    4.724754  0.000000  2.314569e-23   10    0\n",
       "MED-709    5.549975  0.000000  2.314569e-23   10    0\n",
       "MED-711    5.953306  0.000000  2.314569e-23   10    0\n",
       "MED-712    5.664839  0.000000  2.314569e-23   10    0\n",
       "MED-713    6.668556  0.000000  2.314569e-23   10    0\n",
       "MED-714    5.664839  0.000000  2.314569e-23   10    0\n",
       "MED-716    5.797478  0.975177  1.890716e-22   10    0\n",
       "MED-717    5.140227  0.000000  2.314569e-23   10    0\n",
       "MED-718    5.359499  0.000000  2.314569e-23   10    0\n",
       "MED-719    8.708237  0.000000  2.314569e-23   10    0\n",
       "MED-720    6.140420  0.000000  2.314569e-23   10    0\n",
       "MED-721    5.664839  0.953745  1.616350e-22   10    0\n",
       "...             ...       ...           ...  ...  ...\n",
       "MED-5363   8.493702  0.000000  3.798837e-33  999    0\n",
       "MED-5364   7.765307  0.000000  3.798837e-33  999    0\n",
       "MED-5365  10.394544  0.000000  3.798837e-33  999    0\n",
       "MED-5366   8.032520  0.000000  3.798837e-33  999    0\n",
       "MED-5367   8.286704  0.000000  3.798837e-33  999    0\n",
       "MED-5368   7.378030  0.000000  3.798837e-33  999    0\n",
       "MED-5369   8.889591  0.000000  3.798837e-33  999    0\n",
       "MED-5370   7.265164  0.000000  3.798837e-33  999    0\n",
       "MED-5371   7.890579  0.000000  3.798837e-33  999    0\n",
       "MED-847    7.653530  0.000000  3.798837e-33  999    0\n",
       "MED-873    8.385692  0.000000  3.798837e-33  999    0\n",
       "MED-874   10.394544  0.000000  3.798837e-33  999    0\n",
       "MED-875   10.017392  0.000000  3.798837e-33  999    0\n",
       "MED-905    9.054148  0.000000  3.798837e-33  999    0\n",
       "MED-914   10.878986  0.000000  3.798837e-33  999    0\n",
       "MED-915   10.017392  0.000000  3.798837e-33  999    0\n",
       "MED-924   10.878986  0.000000  3.798837e-33  999    0\n",
       "MED-925   11.537065  0.000000  3.798837e-33  999    0\n",
       "MED-926   10.394544  0.000000  3.798837e-33  999    0\n",
       "MED-937    7.265164  0.000000  3.798837e-33  999    0\n",
       "MED-938    9.241535  0.000000  3.798837e-33  999    0\n",
       "MED-939    9.241535  0.000000  3.798837e-33  999    0\n",
       "MED-940    8.032520  0.000000  3.798837e-33  999    0\n",
       "MED-892    8.111044  0.000000  3.798837e-33  999    0\n",
       "MED-906    9.712137  0.000000  3.798837e-33  999    0\n",
       "MED-917    9.457921  0.000000  3.798837e-33  999    0\n",
       "MED-941    9.241535  0.000000  3.798837e-33  999    0\n",
       "MED-942   10.878986  0.000000  3.798837e-33  999    0\n",
       "MED-952   10.017392  0.000000  3.798837e-33  999    0\n",
       "MED-961    6.893475  0.000000  3.798837e-33  999    0\n",
       "\n",
       "[9424002 rows x 5 columns]"
      ]
     },
     "execution_count": 48,
     "metadata": {},
     "output_type": "execute_result"
    }
   ],
   "source": [
    "train_scores"
   ]
  },
  {
   "cell_type": "code",
   "execution_count": 49,
   "metadata": {},
   "outputs": [
    {
     "data": {
      "text/html": [
       "<div>\n",
       "<style>\n",
       "    .dataframe thead tr:only-child th {\n",
       "        text-align: right;\n",
       "    }\n",
       "\n",
       "    .dataframe thead th {\n",
       "        text-align: left;\n",
       "    }\n",
       "\n",
       "    .dataframe tbody tr th {\n",
       "        vertical-align: top;\n",
       "    }\n",
       "</style>\n",
       "<table border=\"1\" class=\"dataframe\">\n",
       "  <thead>\n",
       "    <tr style=\"text-align: right;\">\n",
       "      <th></th>\n",
       "      <th>tfidf</th>\n",
       "      <th>bim25</th>\n",
       "      <th>unigram</th>\n",
       "      <th>rel</th>\n",
       "    </tr>\n",
       "  </thead>\n",
       "  <tbody>\n",
       "    <tr>\n",
       "      <th>count</th>\n",
       "      <td>1.180725e+06</td>\n",
       "      <td>1.180725e+06</td>\n",
       "      <td>1.180725e+06</td>\n",
       "      <td>1.180725e+06</td>\n",
       "    </tr>\n",
       "    <tr>\n",
       "      <th>mean</th>\n",
       "      <td>7.588534e+00</td>\n",
       "      <td>1.618845e-01</td>\n",
       "      <td>2.462048e-08</td>\n",
       "      <td>2.433251e-02</td>\n",
       "    </tr>\n",
       "    <tr>\n",
       "      <th>std</th>\n",
       "      <td>2.286501e+00</td>\n",
       "      <td>5.308435e-01</td>\n",
       "      <td>7.655339e-06</td>\n",
       "      <td>2.158334e-01</td>\n",
       "    </tr>\n",
       "    <tr>\n",
       "      <th>min</th>\n",
       "      <td>9.384311e-01</td>\n",
       "      <td>0.000000e+00</td>\n",
       "      <td>1.485328e-44</td>\n",
       "      <td>0.000000e+00</td>\n",
       "    </tr>\n",
       "    <tr>\n",
       "      <th>25%</th>\n",
       "      <td>6.025946e+00</td>\n",
       "      <td>0.000000e+00</td>\n",
       "      <td>5.475276e-35</td>\n",
       "      <td>0.000000e+00</td>\n",
       "    </tr>\n",
       "    <tr>\n",
       "      <th>50%</th>\n",
       "      <td>7.581093e+00</td>\n",
       "      <td>0.000000e+00</td>\n",
       "      <td>2.436599e-31</td>\n",
       "      <td>0.000000e+00</td>\n",
       "    </tr>\n",
       "    <tr>\n",
       "      <th>75%</th>\n",
       "      <td>9.087797e+00</td>\n",
       "      <td>0.000000e+00</td>\n",
       "      <td>1.883400e-25</td>\n",
       "      <td>0.000000e+00</td>\n",
       "    </tr>\n",
       "    <tr>\n",
       "      <th>max</th>\n",
       "      <td>2.333306e+01</td>\n",
       "      <td>1.984373e+01</td>\n",
       "      <td>6.253765e-03</td>\n",
       "      <td>3.000000e+00</td>\n",
       "    </tr>\n",
       "  </tbody>\n",
       "</table>\n",
       "</div>"
      ],
      "text/plain": [
       "              tfidf         bim25       unigram           rel\n",
       "count  1.180725e+06  1.180725e+06  1.180725e+06  1.180725e+06\n",
       "mean   7.588534e+00  1.618845e-01  2.462048e-08  2.433251e-02\n",
       "std    2.286501e+00  5.308435e-01  7.655339e-06  2.158334e-01\n",
       "min    9.384311e-01  0.000000e+00  1.485328e-44  0.000000e+00\n",
       "25%    6.025946e+00  0.000000e+00  5.475276e-35  0.000000e+00\n",
       "50%    7.581093e+00  0.000000e+00  2.436599e-31  0.000000e+00\n",
       "75%    9.087797e+00  0.000000e+00  1.883400e-25  0.000000e+00\n",
       "max    2.333306e+01  1.984373e+01  6.253765e-03  3.000000e+00"
      ]
     },
     "execution_count": 49,
     "metadata": {},
     "output_type": "execute_result"
    }
   ],
   "source": [
    "#Here you can see that rel is not always 0\n",
    "test_scores.describe()"
   ]
  },
  {
   "cell_type": "code",
   "execution_count": 50,
   "metadata": {
    "collapsed": true
   },
   "outputs": [],
   "source": [
    "train_scores.to_pickle('train_scores.pkl')\n",
    "dev_scores.to_pickle('dev_scores.pkl')\n",
    "test_scores.to_pickle('test_scores.pkl')"
   ]
  },
  {
   "cell_type": "markdown",
   "metadata": {},
   "source": [
    "For reduced task: create files according to rank lib documentation: https://sourceforge.net/p/lemur/wiki/RankLib%20File%20Format/"
   ]
  },
  {
   "cell_type": "code",
   "execution_count": 51,
   "metadata": {
    "collapsed": true
   },
   "outputs": [],
   "source": [
    "#Create csv for Ranklib, code taken from answer here: https://stackoverflow.com/questions/37439533/pandas-custom-file-format\n",
    "feature_columns = ['tfidf','bim25','unigram']\n",
    "cols2id = {col:str(i+1) for i,col in enumerate(feature_columns)}\n",
    "\n",
    "def f(x):\n",
    "    if x.name in feature_columns:\n",
    "        return cols2id[x.name] + ':' + x.astype(str)\n",
    "    elif x.name == 'qid':\n",
    "        return 'qid:' + x.astype(str)\n",
    "    else:\n",
    "        return x\n",
    "\n",
    "(train_scores.apply(lambda x: f(x))[['rel','qid'] + feature_columns]\n",
    "  .to_csv('reduced_task/train.csv', sep=' ', index=False, header=None)\n",
    ")\n",
    "(dev_scores.apply(lambda x: f(x))[['rel','qid'] + feature_columns]\n",
    "  .to_csv('reduced_task/dev.csv', sep=' ', index=False, header=None)\n",
    ")\n",
    "(test_scores.apply(lambda x: f(x))[['rel','qid'] + feature_columns]\n",
    "  .to_csv('reduced_task/test.csv', sep=' ', index=False, header=None)\n",
    ")"
   ]
  },
  {
   "cell_type": "markdown",
   "metadata": {},
   "source": [
    "For Full task: use the generated scores to train and evaluate point and pairwise models"
   ]
  }
 ],
 "metadata": {
  "kernelspec": {
   "display_name": "Python 3",
   "language": "python",
   "name": "python3"
  },
  "language_info": {
   "codemirror_mode": {
    "name": "ipython",
    "version": 3
   },
   "file_extension": ".py",
   "mimetype": "text/x-python",
   "name": "python",
   "nbconvert_exporter": "python",
   "pygments_lexer": "ipython3",
   "version": "3.6.3"
  }
 },
 "nbformat": 4,
 "nbformat_minor": 1
}
