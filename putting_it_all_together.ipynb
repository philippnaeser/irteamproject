{
 "cells": [
  {
   "cell_type": "markdown",
   "metadata": {
    "collapsed": true
   },
   "source": [
    "# Putting it all together\n",
    "\n",
    "## 1: Creating the collection and vocabulary\n",
    "\n",
    "Import *collection_vocabulary.py* and create an instance of the collection class. Its attributes are the collection itself, the vocabulary, and some descriptive summary statistics (e.g. vocabulary size, collection size, collection length)."
   ]
  },
  {
   "cell_type": "code",
   "execution_count": 1,
   "metadata": {},
   "outputs": [],
   "source": [
    "from collection_vocabulary import Collection\n",
    "col=Collection()"
   ]
  },
  {
   "cell_type": "code",
   "execution_count": 31,
   "metadata": {},
   "outputs": [],
   "source": [
    "import os\n",
    "filename='./doc_term_mat.h5'\n",
    "doc_term_matrix = []\n",
    "if not os.path.isfile(filename):\n",
    "    for doc in col.collection:\n",
    "        tf_vector =[]\n",
    "        for word in col.vocabulary:\n",
    "            n= col.collection[doc].count(word)\n",
    "            tf_vector.append(n)\n",
    "        doc_term_matrix.append(tf_vector)"
   ]
  },
  {
   "cell_type": "markdown",
   "metadata": {},
   "source": [
    "## 2: Creating the document term matrix\n",
    "The document term matrix is obtained as a lists of lists from the collection created in step 1. It is then converted to a Pandas dataframe, which is stored to disk to facilitate debugging, and further experimentation."
   ]
  },
  {
   "cell_type": "code",
   "execution_count": 33,
   "metadata": {},
   "outputs": [],
   "source": [
    "import pandas as pd\n",
    "import numpy as np\n",
    "doc_term_matrix= pd.DataFrame(data=doc_term_matrix,index= col.collection.keys(),columns=col.vocabulary)\n",
    "hdf = pd.HDFStore('storage.h5') # create (or open) an hdf5 file and open in append mode\n",
    "hdf['doc_term_matrix'] = doc_term_matrix # store.put('s', s) is an equivalent method\n",
    "doc_term_matrix = hdf['doc_term_matrix'] # hdf.get('doc_term_matrix') is an equivalent method to retrieve dataframe"
   ]
  },
  {
   "cell_type": "markdown",
   "metadata": {},
   "source": [
    "This is a good point to start off the actual analysis and calculate different retrieval models."
   ]
  },
  {
   "cell_type": "markdown",
   "metadata": {},
   "source": [
    "## 3. TF-IDF\n",
    "\n",
    "### IDF\n",
    "\n",
    "Let's start with the easier part: calcualating inverse document frequencies and storing them in a data frame. The index of all dataframes being produced in the remainder of this notebook will be the vocabulary ('the inverted index'), which allows applying the different retrieval models and querying the collection in a standardized way.\n",
    "\n",
    "We will fix and use the parameters of the different models as discussed in the lecture. This may be subject to further hyperparameter tuning (bear in mind we are 'learning to rank.)"
   ]
  },
  {
   "cell_type": "code",
   "execution_count": 38,
   "metadata": {},
   "outputs": [],
   "source": [
    "inverted_index= doc_term_matrix.transpose()\n",
    "def greater_than_zero(some_value): return some_value > 0\n",
    "df=inverted_index.apply(greater_than_zero).sum(axis=1)\n",
    "inverted_index.sum(axis=1).min() # sanity check: should be 1, otherwise division by zero\n",
    "def calculate_idf(some_value): return np.log10(col.collection_size/some_value)\n",
    "idf=df.apply(calculate_idf)\n",
    "hdf['idf']= idf "
   ]
  },
  {
   "cell_type": "markdown",
   "metadata": {},
   "source": [
    "### TF\n",
    "\n",
    "Raw term frequency is what we already have when we look columnwise at the  *inverted_index* dataframe.\n",
    "As discussed in the lecture, we will normalize this frequency by dividing with the raw frequency of the most frequent term in each document. Next, we then take the logarithm (any logarithm will do the job) since we assume that relevance does not increase linearly with term frequency."
   ]
  },
  {
   "cell_type": "code",
   "execution_count": 120,
   "metadata": {},
   "outputs": [
    {
     "name": "stderr",
     "output_type": "stream",
     "text": [
      "/Users/d071503/miniconda2/envs/mycondaenv/lib/python3.6/site-packages/ipykernel_launcher.py:3: RuntimeWarning: divide by zero encountered in log10\n",
      "  This is separate from the ipykernel package so we can avoid doing imports until\n"
     ]
    }
   ],
   "source": [
    "#TODO: double-check this with slides 14 and 19 of lecture 4\n",
    "most_frequent_term=inverted_index.max(axis=0) \n",
    "tf= (1+ np.log10(inverted_index)).div(np.log10(1+ most_frequent_term),axis=1)\n",
    "#tf= (inverted_index.div(most_frequent_term,axis=1))\n",
    "tf.replace([np.inf, -np.inf], 0,inplace=True)\n",
    "hdf['tf']= tf"
   ]
  },
  {
   "cell_type": "markdown",
   "metadata": {},
   "source": [
    "### TFIDF\n",
    "Bringing the pieces together."
   ]
  },
  {
   "cell_type": "code",
   "execution_count": 171,
   "metadata": {},
   "outputs": [],
   "source": [
    "tfidf=tf.multiply(idf)\n",
    "tfidf= tf.apply(lambda x: x* (idf[0]))\n",
    "hdf['tfidf']= tfidf"
   ]
  },
  {
   "cell_type": "code",
   "execution_count": 181,
   "metadata": {},
   "outputs": [
    {
     "data": {
      "text/html": [
       "<div>\n",
       "<style scoped>\n",
       "    .dataframe tbody tr th:only-of-type {\n",
       "        vertical-align: middle;\n",
       "    }\n",
       "\n",
       "    .dataframe tbody tr th {\n",
       "        vertical-align: top;\n",
       "    }\n",
       "\n",
       "    .dataframe thead th {\n",
       "        text-align: right;\n",
       "    }\n",
       "</style>\n",
       "<table border=\"1\" class=\"dataframe\">\n",
       "  <thead>\n",
       "    <tr style=\"text-align: right;\">\n",
       "      <th></th>\n",
       "      <th>MED-10</th>\n",
       "      <th>MED-14</th>\n",
       "      <th>MED-118</th>\n",
       "      <th>MED-301</th>\n",
       "      <th>MED-306</th>\n",
       "      <th>MED-329</th>\n",
       "      <th>MED-330</th>\n",
       "      <th>MED-332</th>\n",
       "      <th>MED-334</th>\n",
       "      <th>MED-335</th>\n",
       "      <th>...</th>\n",
       "      <th>MED-938</th>\n",
       "      <th>MED-939</th>\n",
       "      <th>MED-940</th>\n",
       "      <th>MED-892</th>\n",
       "      <th>MED-906</th>\n",
       "      <th>MED-917</th>\n",
       "      <th>MED-941</th>\n",
       "      <th>MED-942</th>\n",
       "      <th>MED-952</th>\n",
       "      <th>MED-961</th>\n",
       "    </tr>\n",
       "  </thead>\n",
       "  <tbody>\n",
       "    <tr>\n",
       "      <th>'hort</th>\n",
       "      <td>0.0</td>\n",
       "      <td>0.0</td>\n",
       "      <td>0.0</td>\n",
       "      <td>0.0</td>\n",
       "      <td>0.0</td>\n",
       "      <td>0.0</td>\n",
       "      <td>0.0</td>\n",
       "      <td>0.0</td>\n",
       "      <td>0.0</td>\n",
       "      <td>0.0</td>\n",
       "      <td>...</td>\n",
       "      <td>0.0</td>\n",
       "      <td>0.0</td>\n",
       "      <td>0.0</td>\n",
       "      <td>0.0</td>\n",
       "      <td>0.0</td>\n",
       "      <td>0.0</td>\n",
       "      <td>0.0</td>\n",
       "      <td>0.0</td>\n",
       "      <td>0.0</td>\n",
       "      <td>0.0</td>\n",
       "    </tr>\n",
       "    <tr>\n",
       "      <th>+</th>\n",
       "      <td>0.0</td>\n",
       "      <td>0.0</td>\n",
       "      <td>0.0</td>\n",
       "      <td>0.0</td>\n",
       "      <td>0.0</td>\n",
       "      <td>0.0</td>\n",
       "      <td>0.0</td>\n",
       "      <td>0.0</td>\n",
       "      <td>0.0</td>\n",
       "      <td>0.0</td>\n",
       "      <td>...</td>\n",
       "      <td>0.0</td>\n",
       "      <td>0.0</td>\n",
       "      <td>0.0</td>\n",
       "      <td>0.0</td>\n",
       "      <td>0.0</td>\n",
       "      <td>0.0</td>\n",
       "      <td>0.0</td>\n",
       "      <td>0.0</td>\n",
       "      <td>0.0</td>\n",
       "      <td>0.0</td>\n",
       "    </tr>\n",
       "    <tr>\n",
       "      <th>-</th>\n",
       "      <td>0.0</td>\n",
       "      <td>0.0</td>\n",
       "      <td>0.0</td>\n",
       "      <td>0.0</td>\n",
       "      <td>0.0</td>\n",
       "      <td>0.0</td>\n",
       "      <td>0.0</td>\n",
       "      <td>0.0</td>\n",
       "      <td>0.0</td>\n",
       "      <td>0.0</td>\n",
       "      <td>...</td>\n",
       "      <td>0.0</td>\n",
       "      <td>0.0</td>\n",
       "      <td>0.0</td>\n",
       "      <td>0.0</td>\n",
       "      <td>0.0</td>\n",
       "      <td>0.0</td>\n",
       "      <td>0.0</td>\n",
       "      <td>0.0</td>\n",
       "      <td>0.0</td>\n",
       "      <td>0.0</td>\n",
       "    </tr>\n",
       "    <tr>\n",
       "      <th>--a</th>\n",
       "      <td>0.0</td>\n",
       "      <td>0.0</td>\n",
       "      <td>0.0</td>\n",
       "      <td>0.0</td>\n",
       "      <td>0.0</td>\n",
       "      <td>0.0</td>\n",
       "      <td>0.0</td>\n",
       "      <td>0.0</td>\n",
       "      <td>0.0</td>\n",
       "      <td>0.0</td>\n",
       "      <td>...</td>\n",
       "      <td>0.0</td>\n",
       "      <td>0.0</td>\n",
       "      <td>0.0</td>\n",
       "      <td>0.0</td>\n",
       "      <td>0.0</td>\n",
       "      <td>0.0</td>\n",
       "      <td>0.0</td>\n",
       "      <td>0.0</td>\n",
       "      <td>0.0</td>\n",
       "      <td>0.0</td>\n",
       "    </tr>\n",
       "    <tr>\n",
       "      <th>--all</th>\n",
       "      <td>0.0</td>\n",
       "      <td>0.0</td>\n",
       "      <td>0.0</td>\n",
       "      <td>0.0</td>\n",
       "      <td>0.0</td>\n",
       "      <td>0.0</td>\n",
       "      <td>0.0</td>\n",
       "      <td>0.0</td>\n",
       "      <td>0.0</td>\n",
       "      <td>0.0</td>\n",
       "      <td>...</td>\n",
       "      <td>0.0</td>\n",
       "      <td>0.0</td>\n",
       "      <td>0.0</td>\n",
       "      <td>0.0</td>\n",
       "      <td>0.0</td>\n",
       "      <td>0.0</td>\n",
       "      <td>0.0</td>\n",
       "      <td>0.0</td>\n",
       "      <td>0.0</td>\n",
       "      <td>0.0</td>\n",
       "    </tr>\n",
       "  </tbody>\n",
       "</table>\n",
       "<p>5 rows × 3633 columns</p>\n",
       "</div>"
      ],
      "text/plain": [
       "       MED-10  MED-14  MED-118  MED-301  MED-306  MED-329  MED-330  MED-332  \\\n",
       "'hort     0.0     0.0      0.0      0.0      0.0      0.0      0.0      0.0   \n",
       "+         0.0     0.0      0.0      0.0      0.0      0.0      0.0      0.0   \n",
       "-         0.0     0.0      0.0      0.0      0.0      0.0      0.0      0.0   \n",
       "--a       0.0     0.0      0.0      0.0      0.0      0.0      0.0      0.0   \n",
       "--all     0.0     0.0      0.0      0.0      0.0      0.0      0.0      0.0   \n",
       "\n",
       "       MED-334  MED-335   ...     MED-938  MED-939  MED-940  MED-892  MED-906  \\\n",
       "'hort      0.0      0.0   ...         0.0      0.0      0.0      0.0      0.0   \n",
       "+          0.0      0.0   ...         0.0      0.0      0.0      0.0      0.0   \n",
       "-          0.0      0.0   ...         0.0      0.0      0.0      0.0      0.0   \n",
       "--a        0.0      0.0   ...         0.0      0.0      0.0      0.0      0.0   \n",
       "--all      0.0      0.0   ...         0.0      0.0      0.0      0.0      0.0   \n",
       "\n",
       "       MED-917  MED-941  MED-942  MED-952  MED-961  \n",
       "'hort      0.0      0.0      0.0      0.0      0.0  \n",
       "+          0.0      0.0      0.0      0.0      0.0  \n",
       "-          0.0      0.0      0.0      0.0      0.0  \n",
       "--a        0.0      0.0      0.0      0.0      0.0  \n",
       "--all      0.0      0.0      0.0      0.0      0.0  \n",
       "\n",
       "[5 rows x 3633 columns]"
      ]
     },
     "execution_count": 181,
     "metadata": {},
     "output_type": "execute_result"
    }
   ],
   "source": [
    "tfidf.head()"
   ]
  },
  {
   "cell_type": "code",
   "execution_count": null,
   "metadata": {},
   "outputs": [],
   "source": []
  },
  {
   "cell_type": "markdown",
   "metadata": {},
   "source": [
    "### Unigram LM\n",
    ".. has to come, structured the same way. \n",
    ".. "
   ]
  },
  {
   "cell_type": "markdown",
   "metadata": {},
   "source": [
    "### BIM 25\n",
    ".. has to come, structured the same way. \n",
    ".. "
   ]
  },
  {
   "cell_type": "markdown",
   "metadata": {},
   "source": [
    "### Querying\n",
    "\n",
    "@Philipp Naeser: please look at *query.py* which already specifies in a class how a query should look like.\n",
    "Actually it may make sense to reinvert the inverted index, so you can pick the tfidf value columnwise."
   ]
  },
  {
   "cell_type": "code",
   "execution_count": 196,
   "metadata": {},
   "outputs": [
    {
     "data": {
      "text/plain": [
       "MED-10      1.564023\n",
       "MED-14      1.624823\n",
       "MED-118     0.000000\n",
       "MED-301     0.000000\n",
       "MED-306     0.000000\n",
       "MED-329     0.000000\n",
       "MED-330     0.000000\n",
       "MED-332     0.000000\n",
       "MED-334     0.000000\n",
       "MED-335     0.000000\n",
       "MED-398     0.000000\n",
       "MED-557     0.000000\n",
       "MED-666     0.000000\n",
       "MED-691     0.000000\n",
       "MED-692     0.000000\n",
       "MED-702     1.249317\n",
       "MED-706     0.000000\n",
       "MED-707     0.000000\n",
       "MED-708     0.000000\n",
       "MED-709     0.000000\n",
       "MED-711     0.000000\n",
       "MED-712     1.418409\n",
       "MED-713     0.000000\n",
       "MED-714     0.000000\n",
       "MED-716     0.000000\n",
       "MED-717     0.000000\n",
       "MED-718     0.000000\n",
       "MED-719     0.000000\n",
       "MED-720     0.000000\n",
       "MED-721     0.000000\n",
       "              ...   \n",
       "MED-5363    0.000000\n",
       "MED-5364    0.000000\n",
       "MED-5365    0.000000\n",
       "MED-5366    0.000000\n",
       "MED-5367    0.000000\n",
       "MED-5368    0.000000\n",
       "MED-5369    0.000000\n",
       "MED-5370    0.000000\n",
       "MED-5371    0.000000\n",
       "MED-847     0.000000\n",
       "MED-873     1.302013\n",
       "MED-874     1.895709\n",
       "MED-875     0.000000\n",
       "MED-905     0.000000\n",
       "MED-914     0.000000\n",
       "MED-915     0.000000\n",
       "MED-924     0.000000\n",
       "MED-925     0.000000\n",
       "MED-926     0.000000\n",
       "MED-937     0.000000\n",
       "MED-938     1.249317\n",
       "MED-939     0.000000\n",
       "MED-940     0.000000\n",
       "MED-892     0.000000\n",
       "MED-906     0.000000\n",
       "MED-917     0.000000\n",
       "MED-941     0.000000\n",
       "MED-942     0.000000\n",
       "MED-952     1.107309\n",
       "MED-961     0.000000\n",
       "Name: cancer, Length: 3633, dtype: float64"
      ]
     },
     "execution_count": 196,
     "metadata": {},
     "output_type": "execute_result"
    }
   ],
   "source": [
    "#some example query:\n",
    "tf.loc['cancer'] # if you transpose you can directly select by the index term  > tf.transpose().cancer"
   ]
  },
  {
   "cell_type": "code",
   "execution_count": 201,
   "metadata": {},
   "outputs": [
    {
     "data": {
      "text/plain": [
       "MED-3717    2.726833\n",
       "MED-1414    2.726833\n",
       "MED-3729    2.453445\n",
       "MED-4534    2.292030\n",
       "MED-4465    2.292030\n",
       "MED-2067    2.292030\n",
       "MED-2577    2.292030\n",
       "MED-2435    2.183342\n",
       "MED-4470    2.183342\n",
       "MED-2439    2.183342\n",
       "MED-4162    2.183342\n",
       "MED-5184    2.183342\n",
       "MED-1780    2.160964\n",
       "MED-4464    2.160964\n",
       "MED-5042    2.160964\n",
       "MED-3748    2.160964\n",
       "MED-1416    2.160964\n",
       "MED-2087    2.160964\n",
       "MED-2147    2.160964\n",
       "MED-3172    2.113283\n",
       "MED-4196    2.113283\n",
       "MED-4825    2.113283\n",
       "MED-4224    2.104077\n",
       "MED-4433    2.104077\n",
       "MED-3447    2.104077\n",
       "MED-1599    2.104077\n",
       "MED-4759    2.104077\n",
       "MED-4752    2.104077\n",
       "MED-3441    2.095903\n",
       "MED-2578    2.058803\n",
       "              ...   \n",
       "MED-3714    0.000000\n",
       "MED-3713    0.000000\n",
       "MED-3712    0.000000\n",
       "MED-3711    0.000000\n",
       "MED-3710    0.000000\n",
       "MED-3756    0.000000\n",
       "MED-3757    0.000000\n",
       "MED-3758    0.000000\n",
       "MED-3775    0.000000\n",
       "MED-3792    0.000000\n",
       "MED-3788    0.000000\n",
       "MED-3787    0.000000\n",
       "MED-3786    0.000000\n",
       "MED-3783    0.000000\n",
       "MED-3780    0.000000\n",
       "MED-3779    0.000000\n",
       "MED-3778    0.000000\n",
       "MED-3776    0.000000\n",
       "MED-3774    0.000000\n",
       "MED-3759    0.000000\n",
       "MED-3773    0.000000\n",
       "MED-3772    0.000000\n",
       "MED-3771    0.000000\n",
       "MED-3770    0.000000\n",
       "MED-3769    0.000000\n",
       "MED-3765    0.000000\n",
       "MED-3763    0.000000\n",
       "MED-3761    0.000000\n",
       "MED-3760    0.000000\n",
       "MED-3165    0.000000\n",
       "Name: cancer, Length: 3633, dtype: float64"
      ]
     },
     "execution_count": 201,
     "metadata": {},
     "output_type": "execute_result"
    }
   ],
   "source": [
    "tf.loc['cancer'].sort_values(ascending=False)"
   ]
  },
  {
   "cell_type": "markdown",
   "metadata": {},
   "source": [
    "So if you would enter the single query term 'cancer, then document 'MED-3717' would be ranked first, followed by   \n",
    "'MED-1414',..."
   ]
  },
  {
   "cell_type": "code",
   "execution_count": null,
   "metadata": {},
   "outputs": [],
   "source": []
  }
 ],
 "metadata": {
  "kernelspec": {
   "display_name": "Python 3",
   "language": "python",
   "name": "python3"
  },
  "language_info": {
   "codemirror_mode": {
    "name": "ipython",
    "version": 3
   },
   "file_extension": ".py",
   "mimetype": "text/x-python",
   "name": "python",
   "nbconvert_exporter": "python",
   "pygments_lexer": "ipython3",
   "version": "3.6.4"
  }
 },
 "nbformat": 4,
 "nbformat_minor": 1
}
