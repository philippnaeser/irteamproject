{
 "cells": [
  {
   "cell_type": "markdown",
   "metadata": {
    "collapsed": true
   },
   "source": [
    "# TFIDF, BM25, UnigramLM\n",
    "\n",
    "## 1.Collection and Vocabulary\n",
    "\n",
    "Import *collection_vocabulary.py* and create an instance of the collection class. Its attributes are the collection itself, the vocabulary, and some descriptive summary statistics (e.g. vocabulary size, collection size, collection length)."
   ]
  },
  {
   "cell_type": "markdown",
   "metadata": {},
   "source": [
    "**Table of Contents**\n",
    "1. Collection and Vocabulary\n",
    "2. Document Term Matrix\n",
    "3. Inverted Index\n",
    "4. TFIDF\n",
    "5. Unigram LM with J-M-Smoothing\n",
    "6. BM25\n",
    "7. Sample Queries\n",
    "\n",
    "We will fix and use the parameters of the different models as discussed in the lecture. "
   ]
  },
  {
   "cell_type": "code",
   "execution_count": 12,
   "metadata": {},
   "outputs": [],
   "source": [
    "from collection_vocabulary import Collection\n",
    "col=Collection()"
   ]
  },
  {
   "cell_type": "markdown",
   "metadata": {},
   "source": [
    "## 2. Document Term Matrix\n",
    "The document term matrix is obtained as a lists of lists, and then converted to a Pandas dataframe, which is stored to disk to facilitate debugging, and further experimentation."
   ]
  },
  {
   "cell_type": "code",
   "execution_count": 13,
   "metadata": {},
   "outputs": [],
   "source": [
    "doc_term_matrix=[]\n",
    "for doc in col.collection:\n",
    "    tf_vector =[]\n",
    "    for word in col.vocabulary:\n",
    "        n= col.collection[doc].count(word)\n",
    "        tf_vector.append(n)\n",
    "    doc_term_matrix.append(tf_vector)"
   ]
  },
  {
   "cell_type": "code",
   "execution_count": 21,
   "metadata": {},
   "outputs": [],
   "source": [
    "import pandas as pd\n",
    "import numpy as np\n",
    "doc_term_matrix= pd.DataFrame(data=doc_term_matrix,index= col.collection.keys(),columns=col.vocabulary)\n",
    "doc_term_matrix.to_pickle('doc_term_matrix.pkl')"
   ]
  },
  {
   "cell_type": "code",
   "execution_count": 15,
   "metadata": {},
   "outputs": [
    {
     "data": {
      "text/html": [
       "<div>\n",
       "<style scoped>\n",
       "    .dataframe tbody tr th:only-of-type {\n",
       "        vertical-align: middle;\n",
       "    }\n",
       "\n",
       "    .dataframe tbody tr th {\n",
       "        vertical-align: top;\n",
       "    }\n",
       "\n",
       "    .dataframe thead th {\n",
       "        text-align: right;\n",
       "    }\n",
       "</style>\n",
       "<table border=\"1\" class=\"dataframe\">\n",
       "  <thead>\n",
       "    <tr style=\"text-align: right;\">\n",
       "      <th></th>\n",
       "      <th>'hort</th>\n",
       "      <th>+</th>\n",
       "      <th>-</th>\n",
       "      <th>--a</th>\n",
       "      <th>--all</th>\n",
       "      <th>--have</th>\n",
       "      <th>--mainly</th>\n",
       "      <th>--of</th>\n",
       "      <th>--showed</th>\n",
       "      <th>--the</th>\n",
       "      <th>...</th>\n",
       "      <th>zooplankton</th>\n",
       "      <th>zoxazolamine</th>\n",
       "      <th>zr</th>\n",
       "      <th>zu</th>\n",
       "      <th>zuccarini</th>\n",
       "      <th>zucchini</th>\n",
       "      <th>zugesetztem</th>\n",
       "      <th>zusatzstoffe-online</th>\n",
       "      <th>zygote</th>\n",
       "      <th>zymography</th>\n",
       "    </tr>\n",
       "  </thead>\n",
       "  <tbody>\n",
       "    <tr>\n",
       "      <th>MED-10</th>\n",
       "      <td>0</td>\n",
       "      <td>0</td>\n",
       "      <td>0</td>\n",
       "      <td>0</td>\n",
       "      <td>0</td>\n",
       "      <td>0</td>\n",
       "      <td>0</td>\n",
       "      <td>0</td>\n",
       "      <td>0</td>\n",
       "      <td>0</td>\n",
       "      <td>...</td>\n",
       "      <td>0</td>\n",
       "      <td>0</td>\n",
       "      <td>0</td>\n",
       "      <td>0</td>\n",
       "      <td>0</td>\n",
       "      <td>0</td>\n",
       "      <td>0</td>\n",
       "      <td>0</td>\n",
       "      <td>0</td>\n",
       "      <td>0</td>\n",
       "    </tr>\n",
       "    <tr>\n",
       "      <th>MED-14</th>\n",
       "      <td>0</td>\n",
       "      <td>0</td>\n",
       "      <td>0</td>\n",
       "      <td>0</td>\n",
       "      <td>0</td>\n",
       "      <td>0</td>\n",
       "      <td>0</td>\n",
       "      <td>0</td>\n",
       "      <td>0</td>\n",
       "      <td>0</td>\n",
       "      <td>...</td>\n",
       "      <td>0</td>\n",
       "      <td>0</td>\n",
       "      <td>0</td>\n",
       "      <td>0</td>\n",
       "      <td>0</td>\n",
       "      <td>0</td>\n",
       "      <td>0</td>\n",
       "      <td>0</td>\n",
       "      <td>0</td>\n",
       "      <td>0</td>\n",
       "    </tr>\n",
       "    <tr>\n",
       "      <th>MED-118</th>\n",
       "      <td>0</td>\n",
       "      <td>0</td>\n",
       "      <td>0</td>\n",
       "      <td>0</td>\n",
       "      <td>0</td>\n",
       "      <td>0</td>\n",
       "      <td>0</td>\n",
       "      <td>0</td>\n",
       "      <td>0</td>\n",
       "      <td>0</td>\n",
       "      <td>...</td>\n",
       "      <td>0</td>\n",
       "      <td>0</td>\n",
       "      <td>0</td>\n",
       "      <td>0</td>\n",
       "      <td>0</td>\n",
       "      <td>0</td>\n",
       "      <td>0</td>\n",
       "      <td>0</td>\n",
       "      <td>0</td>\n",
       "      <td>0</td>\n",
       "    </tr>\n",
       "  </tbody>\n",
       "</table>\n",
       "<p>3 rows × 29052 columns</p>\n",
       "</div>"
      ],
      "text/plain": [
       "         'hort  +  -  --a  --all  --have  --mainly  --of  --showed  --the  \\\n",
       "MED-10       0  0  0    0      0       0         0     0         0      0   \n",
       "MED-14       0  0  0    0      0       0         0     0         0      0   \n",
       "MED-118      0  0  0    0      0       0         0     0         0      0   \n",
       "\n",
       "            ...      zooplankton  zoxazolamine  zr  zu  zuccarini  zucchini  \\\n",
       "MED-10      ...                0             0   0   0          0         0   \n",
       "MED-14      ...                0             0   0   0          0         0   \n",
       "MED-118     ...                0             0   0   0          0         0   \n",
       "\n",
       "         zugesetztem  zusatzstoffe-online  zygote  zymography  \n",
       "MED-10             0                    0       0           0  \n",
       "MED-14             0                    0       0           0  \n",
       "MED-118            0                    0       0           0  \n",
       "\n",
       "[3 rows x 29052 columns]"
      ]
     },
     "execution_count": 15,
     "metadata": {},
     "output_type": "execute_result"
    }
   ],
   "source": [
    "doc_term_matrix.head(3) # this is how the doc term matrix looks like"
   ]
  },
  {
   "cell_type": "code",
   "execution_count": 16,
   "metadata": {},
   "outputs": [
    {
     "data": {
      "text/plain": [
       "(3633, 29052)"
      ]
     },
     "execution_count": 16,
     "metadata": {},
     "output_type": "execute_result"
    }
   ],
   "source": [
    "# Sanity Check: should have dimensions 3633*29522\n",
    "doc_term_matrix.shape"
   ]
  },
  {
   "cell_type": "code",
   "execution_count": 17,
   "metadata": {},
   "outputs": [
    {
     "data": {
      "text/plain": [
       "count    3633.000000\n",
       "mean      146.204789\n",
       "std        53.995711\n",
       "min        11.000000\n",
       "25%       114.000000\n",
       "50%       148.000000\n",
       "75%       174.000000\n",
       "max       939.000000\n",
       "dtype: float64"
      ]
     },
     "execution_count": 17,
     "metadata": {},
     "output_type": "execute_result"
    }
   ],
   "source": [
    "# some summary stats for our project report and a sanity check that would reveal any empty docs\n",
    "doc_term_matrix.sum(axis=1).describe()"
   ]
  },
  {
   "cell_type": "markdown",
   "metadata": {},
   "source": [
    "## 3. Inverted Index\n",
    "\n",
    "The inverted index is our unified (and in practice memory-efficient) way of representing the document term matrix that we will use in the remainder of this project.\n",
    "\n"
   ]
  },
  {
   "cell_type": "markdown",
   "metadata": {},
   "source": [
    "This is a good point to start off the actual analysis and calculate different retrieval models."
   ]
  },
  {
   "cell_type": "code",
   "execution_count": 22,
   "metadata": {},
   "outputs": [],
   "source": [
    "inverted_index= doc_term_matrix.transpose()\n",
    "doc_term_matrix.to_pickle('inverted_index.pkl') # use later for embeddings, queries, ... "
   ]
  },
  {
   "cell_type": "code",
   "execution_count": 10,
   "metadata": {},
   "outputs": [
    {
     "data": {
      "text/plain": [
       "1"
      ]
     },
     "execution_count": 10,
     "metadata": {},
     "output_type": "execute_result"
    }
   ],
   "source": [
    "# sanity check 1\n",
    "# each term should occur at least once (implied by the way we construct the index), hence min>=1\n",
    "inverted_index.sum(axis=1).min()"
   ]
  },
  {
   "cell_type": "markdown",
   "metadata": {},
   "source": [
    "## 4. TF-IDF"
   ]
  },
  {
   "cell_type": "markdown",
   "metadata": {},
   "source": [
    "### IDF"
   ]
  },
  {
   "cell_type": "code",
   "execution_count": 203,
   "metadata": {},
   "outputs": [],
   "source": [
    "df=(inverted_index>0).sum(axis=1)"
   ]
  },
  {
   "cell_type": "code",
   "execution_count": 204,
   "metadata": {},
   "outputs": [],
   "source": [
    "raw_idf=(col.collection_size/df)"
   ]
  },
  {
   "cell_type": "code",
   "execution_count": 211,
   "metadata": {},
   "outputs": [
    {
     "data": {
      "text/plain": [
       "zucchini               3633.0\n",
       "zugesetztem            3633.0\n",
       "zusatzstoffe-online    3633.0\n",
       "zygote                 3633.0\n",
       "zymography             1816.5\n",
       "dtype: float64"
      ]
     },
     "execution_count": 211,
     "metadata": {},
     "output_type": "execute_result"
    }
   ],
   "source": [
    "raw_idf.tail()"
   ]
  },
  {
   "cell_type": "code",
   "execution_count": 212,
   "metadata": {},
   "outputs": [
    {
     "data": {
      "text/plain": [
       "zucchini               3.560265\n",
       "zugesetztem            3.560265\n",
       "zusatzstoffe-online    3.560265\n",
       "zygote                 3.560265\n",
       "zymography             3.259235\n",
       "dtype: float64"
      ]
     },
     "execution_count": 212,
     "metadata": {},
     "output_type": "execute_result"
    }
   ],
   "source": [
    "idf= np.log10(raw_idf) #aka log of raw_idf\n",
    "idf.tail()"
   ]
  },
  {
   "cell_type": "code",
   "execution_count": 213,
   "metadata": {},
   "outputs": [
    {
     "data": {
      "text/plain": [
       "True"
      ]
     },
     "execution_count": 213,
     "metadata": {},
     "output_type": "execute_result"
    }
   ],
   "source": [
    "# Sanity check: max tf score should be equal to number of docs in collection...\n",
    "raw_idf.max().max()==3633"
   ]
  },
  {
   "cell_type": "code",
   "execution_count": 214,
   "metadata": {},
   "outputs": [
    {
     "data": {
      "text/plain": [
       "3.5602653978627146"
      ]
     },
     "execution_count": 214,
     "metadata": {},
     "output_type": "execute_result"
    }
   ],
   "source": [
    "# Sanity check: ... and max idf score should be substantially lower\n",
    "idf.max().max()"
   ]
  },
  {
   "cell_type": "markdown",
   "metadata": {},
   "source": [
    "### TF\n",
    "Raw term frequency is what we obtain when we look columnwise at the  *inverted_index* dataframe.\n",
    "As discussed in the lecture, we will normalize this frequency by dividing with the raw frequency of the most frequent term in each document. Next, we then take the logarithm (any logarithm will do the job) since we assume that relevance does not increase linearly with term frequency."
   ]
  },
  {
   "cell_type": "code",
   "execution_count": 119,
   "metadata": {},
   "outputs": [],
   "source": [
    "# nominator part\n",
    "nominator= inverted_index.applymap(lambda x: np.log10(x, out=np.zeros_like(inverted_index.as_matrix),where=x!=0))\n",
    "nominator= nominator+1"
   ]
  },
  {
   "cell_type": "code",
   "execution_count": 121,
   "metadata": {},
   "outputs": [
    {
     "data": {
      "text/plain": [
       "(29052, 3633)"
      ]
     },
     "execution_count": 121,
     "metadata": {},
     "output_type": "execute_result"
    }
   ],
   "source": [
    "nominator.shape"
   ]
  },
  {
   "cell_type": "code",
   "execution_count": 122,
   "metadata": {},
   "outputs": [],
   "source": [
    "# denominator part\n",
    "most_frequent_term=inverted_index.max(axis=0) # determine most frequent term in each doc\n",
    "denominator= np.log10(most_frequent_term)\n",
    "denominator+=1"
   ]
  },
  {
   "cell_type": "code",
   "execution_count": 125,
   "metadata": {},
   "outputs": [
    {
     "data": {
      "text/plain": [
       "(3633,)"
      ]
     },
     "execution_count": 125,
     "metadata": {},
     "output_type": "execute_result"
    }
   ],
   "source": [
    "denominator.shape"
   ]
  },
  {
   "cell_type": "code",
   "execution_count": 126,
   "metadata": {},
   "outputs": [
    {
     "data": {
      "text/plain": [
       "1.0"
      ]
     },
     "execution_count": 126,
     "metadata": {},
     "output_type": "execute_result"
    }
   ],
   "source": [
    "#sanity check, there shouldn't be any zeros\n",
    "denominator.min()"
   ]
  },
  {
   "cell_type": "code",
   "execution_count": 130,
   "metadata": {},
   "outputs": [
    {
     "data": {
      "text/plain": [
       "1.0"
      ]
     },
     "execution_count": 130,
     "metadata": {},
     "output_type": "execute_result"
    }
   ],
   "source": [
    "#sanity check, there shouldn't be any zeros\n",
    "nominator.min().min()"
   ]
  },
  {
   "cell_type": "code",
   "execution_count": 131,
   "metadata": {},
   "outputs": [],
   "source": [
    "#tf\n",
    "tf=nominator.div(denominator, axis=1)"
   ]
  },
  {
   "cell_type": "markdown",
   "metadata": {},
   "source": [
    "### TFIDF\n",
    "Bringing the pieces together."
   ]
  },
  {
   "cell_type": "code",
   "execution_count": 133,
   "metadata": {},
   "outputs": [],
   "source": [
    "tfidf= tf.mul(idf, axis=0) # we multiply the tf scores in every doc with the corresponding idf scores\n",
    "tfidf.to_pickle('tfidf.pkl')"
   ]
  },
  {
   "cell_type": "code",
   "execution_count": 139,
   "metadata": {},
   "outputs": [
    {
     "data": {
      "text/plain": [
       "(29052, 3633)"
      ]
     },
     "execution_count": 139,
     "metadata": {},
     "output_type": "execute_result"
    }
   ],
   "source": [
    "tfidf.shape"
   ]
  },
  {
   "cell_type": "markdown",
   "metadata": {},
   "source": [
    "# 5. Unigram LM with Jelinek-Mercer-Smoothing\n"
   ]
  },
  {
   "cell_type": "markdown",
   "metadata": {},
   "source": [
    "### Global Language Model\n",
    "We want to find out how likely each word is if we look at the whole corpus. "
   ]
  },
  {
   "cell_type": "code",
   "execution_count": 140,
   "metadata": {},
   "outputs": [],
   "source": [
    "global_LM=inverted_index.sum(axis=1)/col.collection_length # equal: inverted_index.sum(axis=1)/inverted_index.sum(axis=1).sum()"
   ]
  },
  {
   "cell_type": "markdown",
   "metadata": {},
   "source": [
    "### Local Language Models\n",
    "We want to obtain a language model for each document in the collection, therefore we look at the columns of the *inverted_index* dataframe. "
   ]
  },
  {
   "cell_type": "code",
   "execution_count": 158,
   "metadata": {},
   "outputs": [],
   "source": [
    "local_LMs=inverted_index/inverted_index.sum()"
   ]
  },
  {
   "cell_type": "code",
   "execution_count": 159,
   "metadata": {},
   "outputs": [
    {
     "data": {
      "text/plain": [
       "3632.9999999999995"
      ]
     },
     "execution_count": 159,
     "metadata": {},
     "output_type": "execute_result"
    }
   ],
   "source": [
    "# Sanity Check: Probabilities should sum columnwise to 1, and adding all columns should yield the collection size (3633)\n",
    "local_LMs.sum().sum()"
   ]
  },
  {
   "cell_type": "markdown",
   "metadata": {},
   "source": [
    "### Unigram LM with J-M-Smoothing\n",
    "As introduced in the lecture, this smoothing scheme assigns equal weights to the global and local LMs."
   ]
  },
  {
   "cell_type": "code",
   "execution_count": 190,
   "metadata": {},
   "outputs": [],
   "source": [
    "unigram_LM= (local_LMs.apply(lambda x: x+ global_LM)).apply(lambda x: x/2)# same as multiplying both by 0.5 and adding them\n",
    "unigram_LM.to_pickle('unigramLM.pkl')#writing Unigram-LM to disk"
   ]
  },
  {
   "cell_type": "code",
   "execution_count": 165,
   "metadata": {},
   "outputs": [
    {
     "data": {
      "text/plain": [
       "3633.0000000010787"
      ]
     },
     "execution_count": 165,
     "metadata": {},
     "output_type": "execute_result"
    }
   ],
   "source": [
    "# sanity check: probabilities in every doc should sum up to one and all docs should sum up tp 3633\n",
    "unigram_LM.sum().sum() "
   ]
  },
  {
   "cell_type": "code",
   "execution_count": 180,
   "metadata": {},
   "outputs": [
    {
     "data": {
      "text/plain": [
       "False"
      ]
     },
     "execution_count": 180,
     "metadata": {},
     "output_type": "execute_result"
    }
   ],
   "source": [
    "#sanity check: we don't want to have any negative values \n",
    "unigram_LM.min().min()<0"
   ]
  },
  {
   "cell_type": "code",
   "execution_count": 191,
   "metadata": {},
   "outputs": [
    {
     "data": {
      "text/plain": [
       "True"
      ]
     },
     "execution_count": 191,
     "metadata": {},
     "output_type": "execute_result"
    }
   ],
   "source": [
    "#sanity check: we don't want to have any zeros (since we are smoothing)\n",
    "unigram_LM.isnull().sum(axis=1).sum()==0 # we check whether therer are no zeros > True intended"
   ]
  },
  {
   "cell_type": "code",
   "execution_count": null,
   "metadata": {},
   "outputs": [],
   "source": [
    "'''\n",
    "omitted: operating in log-space to avoid numerical instability\n",
    "global_LM_log_space=np.log(global_LM)\n",
    "local_LMs_log_space=local_LMs.applymap(lambda x: np.log(x, out=np.zeros_like(inverted_index.as_matrix),where=x!=0))\n",
    "\n",
    " '''"
   ]
  },
  {
   "cell_type": "markdown",
   "metadata": {},
   "source": [
    "# 6. BIM 25\n",
    "Let's approach BIM25 step by step, which means modeling the BIM and then gradually extending it. \n",
    "We start from the naive assumption that we do not have any relevance feedbacks.\n",
    "\n",
    "\n",
    "### BIM \n",
    "This simplification results in the following formula we want to compute:\n",
    "w_t= log(0.5 * N/N_t)\n",
    "\n",
    "N_t signifies in how many documents a term appears. This is what we already calucalted as the 'raw' document frequency in the TFIDF-model above. \n",
    "What we are basically doing is multiplying the raw inverse document frequency by 0.5 and then taking the logarithm.\n",
    "\n",
    "Note: This can (and is intended to) produce negative values for words occuring in almost every document."
   ]
  },
  {
   "cell_type": "code",
   "execution_count": 219,
   "metadata": {},
   "outputs": [
    {
     "data": {
      "text/plain": [
       "'hort    3.259235\n",
       "+        2.782114\n",
       "-        3.259235\n",
       "--a      3.259235\n",
       "--all    3.259235\n",
       "dtype: float64"
      ]
     },
     "execution_count": 219,
     "metadata": {},
     "output_type": "execute_result"
    }
   ],
   "source": [
    "BIM= np.log10(raw_idf*0.5) # raw idf calculated above in tfidf\n",
    "BIM.head()"
   ]
  },
  {
   "cell_type": "code",
   "execution_count": 221,
   "metadata": {},
   "outputs": [
    {
     "data": {
      "text/plain": [
       "4"
      ]
     },
     "execution_count": 221,
     "metadata": {},
     "output_type": "execute_result"
    }
   ],
   "source": [
    "# observation: in BIM 25 weights may actually become negative - we have four negative weights\n",
    "sum(BIM<0)"
   ]
  },
  {
   "cell_type": "markdown",
   "metadata": {},
   "source": [
    "### BM 25\n",
    "Let's focus on the weighting part and then multiply these weights with the BIM weights from above."
   ]
  },
  {
   "cell_type": "code",
   "execution_count": 264,
   "metadata": {},
   "outputs": [
    {
     "data": {
      "text/plain": [
       "True"
      ]
     },
     "execution_count": 264,
     "metadata": {},
     "output_type": "execute_result"
    }
   ],
   "source": [
    "# parameters as presented in the lecture\n",
    "k=1.5\n",
    "b=0.25\n",
    "document_lenght= inverted_index.sum()\n",
    "average_document_length= col.collection_length/col.collection_size # 146.20478943022295 TODO: include in project report\n",
    "doc_len_div_by_avg_doc_len= document_lenght/average_document_length\n",
    "#sanity check, should yield 3633\n",
    "doc_len_div_by_avg_doc_len.sum() == 3633"
   ]
  },
  {
   "cell_type": "code",
   "execution_count": 227,
   "metadata": {},
   "outputs": [
    {
     "data": {
      "text/plain": [
       "(29052, 3633)"
      ]
     },
     "execution_count": 227,
     "metadata": {},
     "output_type": "execute_result"
    }
   ],
   "source": [
    "weighting_bim25_nominator= inverted_index.apply(lambda x: x*(k+1))\n",
    "weighting_bim25_nominator.shape"
   ]
  },
  {
   "cell_type": "code",
   "execution_count": 228,
   "metadata": {},
   "outputs": [
    {
     "data": {
      "text/plain": [
       "(29052, 3633)"
      ]
     },
     "execution_count": 228,
     "metadata": {},
     "output_type": "execute_result"
    }
   ],
   "source": [
    "#the denominator is the tricky part since we have to add scalars and a vector to each column in the inverted index at the same time\n",
    "weighting_bim25_denominator=inverted_index.add((doc_len_div_by_avg_doc_len*k*b), axis=1)+(k*(1-b))\n",
    "weighting_bim25_denominator.shape"
   ]
  },
  {
   "cell_type": "code",
   "execution_count": 269,
   "metadata": {},
   "outputs": [],
   "source": [
    "#merging nominator and denominator\n",
    "weighting_bim25= weighting_bim25_nominator.div(weighting_bim25_denominator)"
   ]
  },
  {
   "cell_type": "code",
   "execution_count": 270,
   "metadata": {},
   "outputs": [
    {
     "data": {
      "text/plain": [
       "(29052, 3633)"
      ]
     },
     "execution_count": 270,
     "metadata": {},
     "output_type": "execute_result"
    }
   ],
   "source": [
    "#sanity check: 29052, 3633 ?\n",
    "weighting_bim25.shape"
   ]
  },
  {
   "cell_type": "markdown",
   "metadata": {},
   "source": [
    "Combining the weights, and the vanilla BIM from above, we can now construct BIM25."
   ]
  },
  {
   "cell_type": "code",
   "execution_count": 273,
   "metadata": {},
   "outputs": [],
   "source": [
    "BIM25=weighting_bim25.mul(BIM, axis=0)\n",
    "BIM25.to_pickle('BIM25.pkl')"
   ]
  },
  {
   "cell_type": "markdown",
   "metadata": {},
   "source": [
    "# 7. Querying\n",
    "\n",
    "@Philipp Naeser: please look at *query.py* which already specifies in a class how a query should look like.\n",
    "Actually it may make sense to reinvert the inverted index, so you can pick the tfidf value columnwise."
   ]
  },
  {
   "cell_type": "markdown",
   "metadata": {},
   "source": [
    "### Sample single term queries"
   ]
  },
  {
   "cell_type": "markdown",
   "metadata": {},
   "source": [
    "Let's look at the same single term query  - \"cancer\". And compare the results of the three retrieval models."
   ]
  },
  {
   "cell_type": "code",
   "execution_count": 274,
   "metadata": {},
   "outputs": [
    {
     "data": {
      "text/plain": [
       "MED-3717    3.259235\n",
       "MED-1414    3.259235\n",
       "MED-3729    3.083144\n",
       "MED-2067    2.958205\n",
       "MED-4465    2.958205\n",
       "MED-2577    2.958205\n",
       "MED-4534    2.958205\n",
       "MED-2147    2.870694\n",
       "MED-2087    2.870694\n",
       "MED-5042    2.870694\n",
       "Name: cancer, dtype: float64"
      ]
     },
     "execution_count": 274,
     "metadata": {},
     "output_type": "execute_result"
    }
   ],
   "source": [
    "#TFIDF\n",
    "a= tfidf.loc['cancer'].sort_values(ascending=False).head(10) # if you transpose you can directly select by the index term  > tf.transpose().cancer\n",
    "a"
   ]
  },
  {
   "cell_type": "code",
   "execution_count": 275,
   "metadata": {},
   "outputs": [
    {
     "data": {
      "text/plain": [
       "MED-3703    0.081339\n",
       "MED-2137    0.061650\n",
       "MED-2174    0.057772\n",
       "MED-4391    0.052210\n",
       "MED-890     0.048745\n",
       "MED-5184    0.048281\n",
       "MED-3551    0.047909\n",
       "MED-3555    0.047347\n",
       "MED-2258    0.045462\n",
       "MED-3699    0.044962\n",
       "Name: cancer, dtype: float64"
      ]
     },
     "execution_count": 275,
     "metadata": {},
     "output_type": "execute_result"
    }
   ],
   "source": [
    "# Unigram LM\n",
    "b= unigram_LM.loc['cancer'].sort_values(ascending=False).head(10)\n",
    "b"
   ]
  },
  {
   "cell_type": "code",
   "execution_count": 276,
   "metadata": {},
   "outputs": [
    {
     "data": {
      "text/plain": [
       "MED-3703    0.917499\n",
       "MED-1721    0.895649\n",
       "MED-2760    0.894057\n",
       "MED-3699    0.892689\n",
       "MED-3555    0.884759\n",
       "MED-14      0.881640\n",
       "MED-4928    0.880848\n",
       "MED-5353    0.877033\n",
       "MED-4050    0.876367\n",
       "MED-4785    0.876234\n",
       "Name: cancer, dtype: float64"
      ]
     },
     "execution_count": 276,
     "metadata": {},
     "output_type": "execute_result"
    }
   ],
   "source": [
    "c= BIM25.loc['cancer'].sort_values(ascending=False).head(10)\n",
    "c"
   ]
  },
  {
   "cell_type": "markdown",
   "metadata": {},
   "source": [
    "Obviously, there is very little overlap in the top 10 retrieved documents. Only the top-ranked doc of the probabilisitic ranking models matches."
   ]
  }
 ],
 "metadata": {
  "kernelspec": {
   "display_name": "Python 3",
   "language": "python",
   "name": "python3"
  },
  "language_info": {
   "codemirror_mode": {
    "name": "ipython",
    "version": 3
   },
   "file_extension": ".py",
   "mimetype": "text/x-python",
   "name": "python",
   "nbconvert_exporter": "python",
   "pygments_lexer": "ipython3",
   "version": "3.6.4"
  }
 },
 "nbformat": 4,
 "nbformat_minor": 1
}
